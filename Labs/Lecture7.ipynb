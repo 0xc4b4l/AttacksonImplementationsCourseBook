{
 "cells": [
  {
   "cell_type": "code",
   "execution_count": null,
   "metadata": {
    "id": "H7gdmR3vePi7",
    "colab_type": "code",
    "colab": {}
   },
   "outputs": [],
   "source": [
    "import matplotlib.pyplot as plt\n",
    "import numpy as np\n",
    "import scipy.io as sp\n",
    "#Colab support\n",
    "!wget https://raw.githubusercontent.com/orel509/AttacksonImplementationsCourseBook/master/Labs/WS2.mat\n",
    "!wget https://raw.githubusercontent.com/orel509/AttacksonImplementationsCourseBook/master/Labs/hamming_weight.py\n",
    "!wget https://raw.githubusercontent.com/orel509/AttacksonImplementationsCourseBook/master/Labs/aes_scripts/aes_lib.py\n",
    "\n",
    "#  Differential power analysis and correlation power analysis\n",
    "DPA = 0\n",
    "CPA = 1\n",
    "dpa_or_cpa = CPA  # DPA"
   ]
  },
  {
   "cell_type": "code",
   "execution_count": null,
   "metadata": {
    "id": "RQbfpltIkNK9",
    "colab_type": "code",
    "colab": {}
   },
   "outputs": [],
   "source": [
    "#  Make sure the matlab AES scripts are in the path\n",
    "#  Load WS2, show a few traces\n",
    "ws2 = sp.loadmat('WS2.mat')\n",
    "print(np.shape(ws2['traces']))  # D = 200, T = 100000"
   ]
  },
  {
   "cell_type": "code",
   "execution_count": null,
   "metadata": {
    "id": "7ZgFFMj2kNUh",
    "colab_type": "code",
    "colab": {}
   },
   "outputs": [],
   "source": [
    "#  shrink it a little so it runs faster\n",
    "traces = ws2['traces'][:, 0:30000]\n",
    "input_count = np.shape(traces)[0]\n",
    "trace_length = np.shape(traces)[1]"
   ]
  },
  {
   "cell_type": "code",
   "execution_count": null,
   "metadata": {
    "id": "_S97iCHVjV7f",
    "colab_type": "code",
    "colab": {}
   },
   "outputs": [],
   "source": [
    "plt.plot(traces[0, :])\n",
    "plt.plot(traces[1, :])\n",
    "plt.xlim([300, 500])\n",
    "plt.ylim([-80, 100])\n",
    "plt.figure()"
   ]
  },
  {
   "cell_type": "code",
   "execution_count": null,
   "metadata": {
    "id": "TQUtz3zHjV-2",
    "colab_type": "code",
    "colab": {}
   },
   "outputs": [],
   "source": [
    "#  We want to guess byte 1 in the key\n",
    "key_byte_to_guess = 12\n",
    "classification_output = np.zeros(shape=(2**8, trace_length))\n",
    "print(np.shape(classification_output))\n",
    "# #\n",
    "#  For each key guess\n",
    "trace_classification = np.zeros(shape=(2**8, input_count))\n",
    "inputs = ws2['inputs']"
   ]
  },
  {
   "cell_type": "code",
   "execution_count": null,
   "metadata": {
    "id": "Wlp2SwlijWBO",
    "colab_type": "code",
    "colab": {}
   },
   "outputs": [],
   "source": [
    "# guessing the byte of the key and finding the correct guess\n",
    "for key_guess in range(2**8):\n",
    "  # For each plaintext input\n",
    "  for input in range(input_count):\n",
    "    # Calculate what the value of S[P ^ K] is\n",
    "    p_xor_k = np.bitwise_xor(inputs[input, key_byte_to_guess - 1], key_guess)\n",
    "    s_p_xor_k = aes_sbox(p_xor_k, 1)\n",
    "\n",
    "    if dpa_or_cpa == DPA:\n",
    "      trace_classification[key_guess, input] = (np.bitwise_and(s_p_xor_k, 1) != 0)\n",
    "    else:\n",
    "      trace_classification[key_guess, input] = hamming_weight(s_p_xor_k)\n",
    "\n",
    "  # % Calculate the mean of each classified set\n",
    "  if dpa_or_cpa == DPA:\n",
    "    mean_for_1 = np.mean(traces[trace_classification[key_guess, :] == 1, :])\n",
    "    mean_for_0 = np.mean(traces[trace_classification[key_guess, :] == 0, :])\n",
    "    # % Save the difference of means in the table\n",
    "    classification_output[key_guess, :] = mean_for_1 - mean_for_0\n",
    "  else:\n",
    "    shape = np.shape(trace_classification[key_guess, :])\n",
    "    my_trace = np.reshape(trace_classification[key_guess, :], newshape=(shape[0], 1))\n",
    "\n",
    "    traces1 = (traces - traces.mean(axis=0))/traces.std(axis=0)  # A matrix\n",
    "    my_trace = (my_trace - my_trace.mean(axis=0))/my_trace.std(axis=0)  # B matrix\n",
    "    correlation = (np.dot(my_trace.T, traces1) / my_trace.shape[0])[0]\n",
    "\n",
    "    classification_output[key_guess, :] = np.transpose(correlation)\n",
    "\n",
    "  print('[{:02x}]'.format(key_guess), end=\" \")\n",
    "  if (key_guess % 16) == 15:\n",
    "    print('\\n')"
   ]
  },
  {
   "cell_type": "code",
   "execution_count": null,
   "metadata": {
    "id": "rGY0-_x8jWDx",
    "colab_type": "code",
    "colab": {}
   },
   "outputs": [],
   "source": [
    "#  Plot the trace classification matrix\n",
    "plt.imshow(trace_classification)\n",
    "# #imagesc(trace_classification)\n",
    "plt.xlabel('Trace index')\n",
    "plt.ylabel(['Key guess for byte ' + str(key_byte_to_guess)])\n",
    "plt.figure()"
   ]
  },
  {
   "cell_type": "code",
   "execution_count": null,
   "metadata": {
    "id": "FaFwcSVujWF2",
    "colab_type": "code",
    "colab": {}
   },
   "outputs": [],
   "source": [
    "#  Find out the correct timne and correct key\n",
    "absolute = np.abs(classification_output)\n",
    "index = np.unravel_index(np.argmax(absolute, axis=None), absolute.shape)\n",
    "correct_time = index[1]\n",
    "\n",
    "absolute = np.abs(classification_output[:, correct_time])\n",
    "correct_key = np.argmax(absolute)  # this is actually correct_key + 1"
   ]
  },
  {
   "cell_type": "code",
   "execution_count": null,
   "metadata": {
    "id": "HVVIv7PfjWIg",
    "colab_type": "code",
    "colab": {}
   },
   "outputs": [],
   "source": [
    "heights = np.abs(classification_output[:, correct_time])\n",
    "plt.bar(range(1, np.shape(classification_output)[0] + 1), heights)\n",
    "plt.xlabel('Key guess')\n",
    "plt.figure()"
   ]
  },
  {
   "cell_type": "code",
   "execution_count": null,
   "metadata": {
    "id": "BD8EPfIWjWKW",
    "colab_type": "code",
    "colab": {}
   },
   "outputs": [],
   "source": [
    "# #\n",
    "#  CPA only: show the actual power consumption at correct time, compared to\n",
    "#  power model\n",
    "temp = traces[:, correct_time]\n",
    "plot1 = np.true_divide(traces[:, correct_time], 5)\n",
    "plt.plot(plot1)\n",
    "plt.plot(np.transpose(trace_classification[correct_key, :]))\n",
    "plt.xlabel('Trace index')\n",
    "plt.ylabel({'Power consumption at correct time (blue)', 'Power model for correct key (red)'})\n",
    "plt.figure()"
   ]
  },
  {
   "cell_type": "code",
   "execution_count": null,
   "metadata": {
    "id": "Z7XZzI9xjWNH",
    "colab_type": "code",
    "colab": {}
   },
   "outputs": [],
   "source": [
    "#  plot the correct key at the correct time\n",
    "plt.plot(np.transpose(classification_output))\n",
    "plt.xlim([correct_time - 100, correct_time + 100])\n",
    "plt.figure()"
   ]
  },
  {
   "cell_type": "code",
   "execution_count": null,
   "metadata": {
    "id": "7kFhb4ohjWbw",
    "colab_type": "code",
    "colab": {}
   },
   "outputs": [],
   "source": [
    "# hold on\n",
    "plt.plot(classification_output[correct_key, :], linestyle='dashed', linewidth=5)\n",
    "# hold off\n",
    "plt.figure()\n",
    "plt.show()"
   ]
  }
 ],
 "metadata": {
  "kernelspec": {
   "display_name": "Python 2",
   "language": "python",
   "name": "python2"
  },
  "language_info": {
   "codemirror_mode": {
    "name": "ipython",
    "version": 2
   },
   "file_extension": ".py",
   "mimetype": "text/x-python",
   "name": "python",
   "nbconvert_exporter": "python",
   "pygments_lexer": "ipython2",
   "version": "2.7.6"
  },
  "colab": {
   "name": "Lecture7.ipynb",
   "provenance": []
  }
 },
 "nbformat": 4,
 "nbformat_minor": 0
}