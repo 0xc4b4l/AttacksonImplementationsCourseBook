{
 "cells": [
  {
   "cell_type": "code",
   "execution_count": null,
   "metadata": {},
   "outputs": [],
   "source": [
    "#Resources and Dependencies, if you are interested, you can use the links to see the code\n",
    "!wget https://raw.githubusercontent.com/orel509/AttacksonImplementationsCourseBook/master/Labs/WS2.mat\n",
    "!wget https://raw.githubusercontent.com/orel509/AttacksonImplementationsCourseBook/master/Labs/hamming_weight.py\n",
    "!wget https://raw.githubusercontent.com/orel509/AttacksonImplementationsCourseBook/master/Labs/aes_scripts/aes_lib.py"
   ]
  },
  {
   "cell_type": "code",
   "execution_count": null,
   "metadata": {
    "id": "H7gdmR3vePi7",
    "colab_type": "code",
    "colab": {},
    "tags": []
   },
   "outputs": [],
   "source": [
    "import matplotlib.pyplot as plt\n",
    "import numpy as np\n",
    "import scipy.io as sp\n",
    "from hamming_weight import hamming_weight\n",
    "from bokeh.models import Range1d\n",
    "#from aes_scripts.aes_crypt_8bit_and_leak import aes_crypt_8bit_and_leak, aes_sbox\n",
    "from aes_lib import aes_crypt_8bit_and_leak, aes_sbox\n",
    "\n",
    "!pip install -q bokeh\n",
    "from bokeh.plotting import figure, show\n",
    "from bokeh.models import Range1d, ColorBar, LinearColorMapper, BasicTicker\n",
    "from bokeh.io import output_notebook\n",
    "import bokeh.colors.named as bokeh_colors_names\n",
    "\n",
    "bokeh_colors_names_arr = dir(bokeh_colors_names)[10:]\n",
    "bokeh_colors_names_arr = bokeh_colors_names_arr*3\n",
    "\n",
    "# Call once to configure Bokeh to display plots inline in the notebook.\n",
    "output_notebook()"
   ]
  },
  {
   "cell_type": "code",
   "execution_count": null,
   "metadata": {},
   "outputs": [],
   "source": [
    "def getHeatMap(title, xaxis, yaxis, data, dh, dw):\n",
    "    indMax = np.unravel_index(np.argmax(data, axis=None), data.shape)\n",
    "    print(np.shape(data), data[indMax])    \n",
    "    color_mapper = LinearColorMapper(palette=\"Turbo256\", low=1e-2, high=data[indMax])\n",
    "    #Log heatmap\n",
    "\n",
    "    fig = figure(title=title, x_range=(0,dw), y_range=(0,dh), x_axis_label=xaxis, y_axis_label=yaxis,\n",
    "        tooltips=[(\"x\", \"$x\"), (\"y\", \"$y\"), (\"value\", \"@image\")], plot_height=700, plot_width=700)\n",
    "    fig.image(image=[data], x=0, y=0, dw=dw, dh=dh, color_mapper=color_mapper, level=\"image\")\n",
    "    #palette values-https://docs.bokeh.org/en/latest/docs/reference/palettes.html\n",
    "\n",
    "    #add heat map\n",
    "    color_bar = ColorBar(color_mapper=color_mapper, ticker=BasicTicker(), border_line_color=None, location=(0,0))\n",
    "    fig.add_layout(color_bar, 'right')\n",
    "    #show(fig)\n",
    "    return fig"
   ]
  },
  {
   "cell_type": "code",
   "execution_count": null,
   "metadata": {},
   "outputs": [],
   "source": [
    "#  Differential power analysis and correlation power analysis\n",
    "DPA = 0\n",
    "CPA = 1\n",
    "dpa_or_cpa = CPA  # DPA"
   ]
  },
  {
   "cell_type": "code",
   "execution_count": null,
   "metadata": {
    "id": "RQbfpltIkNK9",
    "colab_type": "code",
    "colab": {},
    "tags": []
   },
   "outputs": [],
   "source": [
    "#  Make sure the matlab AES scripts are in the path\n",
    "#  Load WS2, show a few traces\n",
    "ws2 = sp.loadmat('WS2.mat')\n",
    "print(np.shape(ws2['traces']))  # D = 200, T = 100000"
   ]
  },
  {
   "cell_type": "code",
   "execution_count": null,
   "metadata": {
    "id": "7ZgFFMj2kNUh",
    "colab_type": "code",
    "colab": {}
   },
   "outputs": [],
   "source": [
    "#  shrink it a little so it runs faster\n",
    "traces = ws2['traces'][:, 0:30000]\n",
    "input_count = np.shape(traces)[0]\n",
    "trace_length = np.shape(traces)[1]"
   ]
  },
  {
   "cell_type": "code",
   "execution_count": null,
   "metadata": {
    "id": "_S97iCHVjV7f",
    "colab_type": "code",
    "colab": {},
    "tags": []
   },
   "outputs": [],
   "source": [
    "p = figure(title='Traces of AES computation', x_axis_label='Time (ms)', y_axis_label='value', tooltips=[(\"x\", \"$x\"), (\"y\", \"$y\")])\n",
    "times = np.linspace(0,len(traces[0, :]), len(traces[0, :]))\n",
    "p.x_range=Range1d(300, 500)\n",
    "p.line(times, traces[0, :], legend_label='Trace 1', line_color='blue')\n",
    "p.line(times, traces[1, :], legend_label='Trace 2', line_color='orange')\n",
    "show(p)"
   ]
  },
  {
   "cell_type": "code",
   "execution_count": null,
   "metadata": {
    "id": "TQUtz3zHjV-2",
    "colab_type": "code",
    "colab": {},
    "tags": []
   },
   "outputs": [],
   "source": [
    "#  We want to guess byte 1 in the key\n",
    "key_byte_to_guess = 5\n",
    "classification_output = np.zeros(shape=(2**8, trace_length))\n",
    "print(np.shape(classification_output))\n",
    "# #\n",
    "#  For each key guess\n",
    "trace_classification = np.zeros(shape=(2**8, input_count))\n",
    "inputs = ws2['inputs']"
   ]
  },
  {
   "cell_type": "code",
   "execution_count": null,
   "metadata": {
    "tags": []
   },
   "outputs": [],
   "source": [
    "print(np.shape(traces), np.shape(classification_output), np.shape(trace_classification))"
   ]
  },
  {
   "cell_type": "code",
   "execution_count": null,
   "metadata": {
    "id": "Wlp2SwlijWBO",
    "colab_type": "code",
    "colab": {},
    "tags": []
   },
   "outputs": [],
   "source": [
    "# guessing the byte of the key and finding the correct guess\n",
    "for key_guess in range(2**8):\n",
    "  # For each plaintext input\n",
    "  for input in range(input_count):\n",
    "    # Calculate what the value of S[P ^ K] is\n",
    "    p_xor_k = np.bitwise_xor(inputs[input, key_byte_to_guess - 1], key_guess)\n",
    "    s_p_xor_k = aes_sbox(p_xor_k, 1)\n",
    "\n",
    "    if dpa_or_cpa == DPA:\n",
    "      trace_classification[key_guess, input] = (np.bitwise_and(s_p_xor_k, 1) != 0)\n",
    "    else:\n",
    "      trace_classification[key_guess, input] = hamming_weight(s_p_xor_k)\n",
    "\n",
    "  # % Calculate the mean of each classified set\n",
    "  if dpa_or_cpa == DPA:\n",
    "    mean_for_1 = np.mean(traces[trace_classification[key_guess, :] == 1, :], axis=0)\n",
    "    mean_for_0 = np.mean(traces[trace_classification[key_guess, :] == 0, :], axis=0)\n",
    "    # % Save the difference of means in the table\n",
    "    classification_output[key_guess, :] = np.subtract(mean_for_1, mean_for_0)\n",
    "  else:\n",
    "    shape = np.shape(trace_classification[key_guess, :])\n",
    "    my_trace = np.reshape(trace_classification[key_guess, :], newshape=(shape[0], 1))\n",
    "\n",
    "    traces1 = (traces - traces.mean(axis=0))/traces.std(axis=0)  # A matrix\n",
    "    my_trace = (my_trace - my_trace.mean(axis=0))/my_trace.std(axis=0)  # B matrix\n",
    "    correlation = (np.dot(my_trace.T, traces1) / my_trace.shape[0])[0]\n",
    "\n",
    "    classification_output[key_guess, :] = np.transpose(correlation)\n",
    "\n",
    "  print('[{:02x}]'.format(key_guess), end=\" \")\n",
    "  if (key_guess % 16) == 15:\n",
    "    print('\\n')"
   ]
  },
  {
   "cell_type": "code",
   "execution_count": null,
   "metadata": {
    "id": "rGY0-_x8jWDx",
    "colab_type": "code",
    "colab": {},
    "tags": []
   },
   "outputs": [],
   "source": [
    "#  Plot the trace classification matrix\n",
    "[dh, dw] = np.shape(trace_classification)\n",
    "\n",
    "show(getHeatMap('Trace classification', 'Trace index', 'Key guess for byte  ' + str(key_byte_to_guess), trace_classification, dh, dw))"
   ]
  },
  {
   "cell_type": "code",
   "execution_count": null,
   "metadata": {
    "id": "FaFwcSVujWF2",
    "colab_type": "code",
    "colab": {},
    "tags": []
   },
   "outputs": [],
   "source": [
    "#  Find out the correct timne and correct key\n",
    "absolute = np.abs(classification_output)\n",
    "index = np.unravel_index(np.argmax(absolute, axis=None), absolute.shape)\n",
    "correct_time = index[1]\n",
    "\n",
    "absolute = np.abs(classification_output[:, correct_time])\n",
    "correct_key = np.argmax(absolute)  # this is actually correct_key + 1\n",
    "print(correct_key, correct_time)"
   ]
  },
  {
   "cell_type": "code",
   "execution_count": null,
   "metadata": {
    "id": "HVVIv7PfjWIg",
    "colab_type": "code",
    "colab": {}
   },
   "outputs": [],
   "source": [
    "heights = np.abs(classification_output[:, correct_time])\n",
    "p = figure(title='Correlation for each value of the byte', x_axis_label='Key guess', y_axis_label='Correlation', tooltips=[(\"x\", \"$x\"), (\"y\", \"$y\")])\n",
    "p.vbar(x=range(1, np.shape(classification_output)[0] + 1), top=heights, width=0.8, fill_color='blue')\n",
    "show(p)"
   ]
  },
  {
   "cell_type": "code",
   "execution_count": null,
   "metadata": {
    "id": "BD8EPfIWjWKW",
    "colab_type": "code",
    "colab": {}
   },
   "outputs": [],
   "source": [
    "# #\n",
    "#  CPA only: show the actual power consumption at correct time, compared to\n",
    "#  power model\n",
    "plot1 = np.true_divide(traces[:, correct_time], 5)\n",
    "p = figure(title='The actual power consumption at correct time compared to the power model', x_axis_label='Trace index', y_axis_label='power', tooltips=[(\"x\", \"$x\"), (\"y\", \"$y\")])\n",
    "times = np.linspace(0,200,200)\n",
    "p.line(times, plot1, legend_label='Power model for correct key', line_color='blue')\n",
    "p.line(times, np.transpose(trace_classification[correct_key, :]), legend_label='Power consumption at correct time', line_color='orange')\n",
    "show(p)"
   ]
  },
  {
   "cell_type": "code",
   "execution_count": null,
   "metadata": {
    "id": "Z7XZzI9xjWNH",
    "colab_type": "code",
    "colab": {},
    "tags": []
   },
   "outputs": [],
   "source": [
    "window_frame = 100#ms\n",
    "offframe = 2*window_frame\n",
    "ys=[x[correct_time - offframe:correct_time + offframe] for x in classification_output]\n",
    "p = figure(title='The correct key at the correct time', x_axis_label='Time (ms)', y_axis_label='Correlation', tooltips=[(\"x\", \"$x\"), (\"y\", \"$y\"), (\"Key guess\", \"$index\")])\n",
    "times = np.linspace(correct_time - offframe, correct_time + offframe, offframe*2)\n",
    "times = np.tile(times,(len(ys),1))#duplicate the array for the multiline function\n",
    "p.multi_line(xs=list(times), ys=ys, color=bokeh_colors_names_arr[:len(times)])\n",
    "#p.multi_line(xs=[[1, 2, 3], [2, 3, 4]], ys=[[6, 7, 2], [4, 5, 7]], color=['red','green'])\n",
    "p.x_range=Range1d(correct_time - window_frame, correct_time + window_frame)\n",
    "show(p)"
   ]
  },
  {
   "cell_type": "code",
   "execution_count": null,
   "metadata": {
    "id": "7kFhb4ohjWbw",
    "colab_type": "code",
    "colab": {}
   },
   "outputs": [],
   "source": [
    "p = figure(title='Correlation at the correct time', x_axis_label='Time (ms)', y_axis_label='Correlation', tooltips=[(\"x\", \"$x\"), (\"y\", \"$y\")])\n",
    "times = np.linspace(0,trace_length,len(classification_output[correct_key, :]))\n",
    "p.line(times, classification_output[correct_key, :], line_color='blue')\n",
    "show(p)"
   ]
  },
  {
   "cell_type": "code",
   "execution_count": null,
   "metadata": {},
   "outputs": [],
   "source": []
  }
 ],
 "metadata": {
  "kernelspec": {
   "display_name": "Python 3",
   "language": "python",
   "name": "python3"
  },
  "language_info": {
   "codemirror_mode": {
    "name": "ipython",
    "version": 2
   },
   "file_extension": ".py",
   "mimetype": "text/x-python",
   "name": "python",
   "nbconvert_exporter": "python",
   "pygments_lexer": "ipython2",
   "version": "3.8.2-final"
  },
  "colab": {
   "name": "Lecture7.ipynb",
   "provenance": []
  }
 },
 "nbformat": 4,
 "nbformat_minor": 0
}