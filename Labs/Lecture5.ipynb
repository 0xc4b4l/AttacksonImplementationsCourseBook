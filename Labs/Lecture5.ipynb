{
 "cells": [
  {
   "cell_type": "markdown",
   "metadata": {
    "id": "view-in-github",
    "colab_type": "text"
   },
   "source": [
    "<a href=\"https://colab.research.google.com/github/orel509/AttacksonImplementationsCourseBook/blob/master/Labs/Lecture5.ipynb\" target=\"_parent\"><img src=\"https://colab.research.google.com/assets/colab-badge.svg\" alt=\"Open In Colab\"/></a>"
   ]
  },
  {
   "cell_type": "code",
   "execution_count": null,
   "metadata": {},
   "outputs": [],
   "source": [
    "import matplotlib.pyplot as plt\n",
    "import numpy as np\n",
    "#Colab support\n",
    "!wget https://raw.githubusercontent.com/orel509/AttacksonImplementationsCourseBook/master/Labs/hamming_weight.py\n",
    "!wget https://raw.githubusercontent.com/orel509/AttacksonImplementationsCourseBook/master/Labs/aes_scripts/aes_lib.py\n"
   ]
  },
  {
   "cell_type": "code",
   "execution_count": null,
   "metadata": {
    "id": "yMABJHgMeN1K",
    "colab_type": "code",
    "colab": {}
   },
   "outputs": [],
   "source": [
    "#  Make sure the matlab AES scripts are in the path\n",
    "# #\n",
    "#  Create two 128-bit plaintexts (exactly 16 byte)\n",
    "pt1 = []\n",
    "pt2 = []\n",
    "for b1 in bytes('Attack at 12:56!', 'utf-8'):\n",
    "  pt1 += [b1]\n",
    "for b2 in bytes('Attack at 12:57!', 'utf-8'):\n",
    "  pt2 += [b2]\n",
    "\n",
    "plaintext_1 = np.uint8(pt1)\n",
    "plaintext_1_1 = np.asmatrix(plaintext_1)\n",
    "plaintext_2 = np.uint8(pt2)\n",
    "plaintext_2_2 = np.asmatrix(plaintext_2)\n",
    "\n"
   ]
  },
  {
   "cell_type": "code",
   "execution_count": null,
   "metadata": {
    "id": "MyRLKeCPh0Zd",
    "colab_type": "code",
    "colab": {}
   },
   "outputs": [],
   "source": [
    "#  how many bits are different between the two?\n",
    "res = hamming_weight(np.bitwise_xor(plaintext_1_1, plaintext_2_2))\n",
    "print(res)"
   ]
  },
  {
   "cell_type": "code",
   "execution_count": null,
   "metadata": {
    "id": "i3KLIluDh0hn",
    "colab_type": "code",
    "colab": {}
   },
   "outputs": [],
   "source": [
    "#  Create a key\n",
    "key_bytes = []\n",
    "for byte in bytes('1234512345123456', 'utf-8'):\n",
    "  key_bytes += [byte]\n",
    "\n",
    "key = np.uint8(key_bytes)\n",
    "key = np.asmatrix(key)"
   ]
  },
  {
   "cell_type": "code",
   "execution_count": null,
   "metadata": {
    "id": "MSTydhtcguC0",
    "colab_type": "code",
    "colab": {}
   },
   "outputs": [],
   "source": [
    "ENCRYPT = 1\n",
    "DECRYPT = 0\n",
    "#  Encrypt the two plaintexts\n",
    "ciphertext_1 = aes_crypt_8bit(plaintext_1_1, key, ENCRYPT)\n",
    "ciphertext_2 = aes_crypt_8bit(plaintext_2_2, key, ENCRYPT)"
   ]
  },
  {
   "cell_type": "code",
   "execution_count": null,
   "metadata": {
    "id": "xce7YpPYhf2j",
    "colab_type": "code",
    "colab": {}
   },
   "outputs": [],
   "source": [
    "#  even though the plaintexts were very similar...\n",
    "print(plaintext_1)\n",
    "print(plaintext_2)\n",
    "#  ... the ciphertexts are very different\n",
    "print(ciphertext_1)\n",
    "print(ciphertext_2)"
   ]
  },
  {
   "cell_type": "code",
   "execution_count": null,
   "metadata": {
    "id": "TczPHJaohblr",
    "colab_type": "code",
    "colab": {}
   },
   "outputs": [],
   "source": [
    "#  how many bits are different between the two?\n",
    "print(hamming_weight(np.bitwise_xor(ciphertext_1, ciphertext_2)))"
   ]
  },
  {
   "cell_type": "code",
   "execution_count": null,
   "metadata": {
    "id": "JI2q9IE0hYWV",
    "colab_type": "code",
    "colab": {}
   },
   "outputs": [],
   "source": [
    "#  Decrypt the two ciphertexts\n",
    "decrypted_1 =  aes_crypt_8bit(ciphertext_1, key, DECRYPT)\n",
    "decrypted_2 =  aes_crypt_8bit(ciphertext_2, key, DECRYPT)"
   ]
  },
  {
   "cell_type": "code",
   "execution_count": null,
   "metadata": {
    "id": "-UKwCDuohYYo",
    "colab_type": "code",
    "colab": {}
   },
   "outputs": [],
   "source": [
    "#  Did we get the plaintext again?\n",
    "print(plaintext_1)\n",
    "print(plaintext_2)\n",
    "print(decrypted_1)\n",
    "print(decrypted_2)\n",
    "print()"
   ]
  },
  {
   "cell_type": "code",
   "execution_count": null,
   "metadata": {
    "id": "sI4nfhA2hTTj",
    "colab_type": "code",
    "colab": {}
   },
   "outputs": [],
   "source": [
    "#  Look at the internals of AES now\n",
    "[ciphertext_1, state_1, _, leak_1] = aes_crypt_8bit_and_leak(plaintext_1_1, key, ENCRYPT)\n",
    "[ciphertext_2, state_2, _, leak_2] = aes_crypt_8bit_and_leak(plaintext_2_2, key, ENCRYPT)"
   ]
  },
  {
   "cell_type": "code",
   "execution_count": null,
   "metadata": {
    "id": "Jvul51G2gwF9",
    "colab_type": "code",
    "colab": {}
   },
   "outputs": [],
   "source": [
    "#  Show an image showing the two leaks side by size\n",
    "plt.subplot(1, 3, 1)"
   ]
  },
  {
   "cell_type": "code",
   "execution_count": null,
   "metadata": {
    "id": "GDa_9P57gwIg",
    "colab_type": "code",
    "colab": {}
   },
   "outputs": [],
   "source": [
    "plt.imshow(np.squeeze(state_1), interpolation='nearest')\n",
    "plt.hsv()\n",
    "plt.subplot(1, 3, 3)"
   ]
  },
  {
   "cell_type": "code",
   "execution_count": null,
   "metadata": {
    "id": "lnv8YTZYgwKb",
    "colab_type": "code",
    "colab": {}
   },
   "outputs": [],
   "source": [
    "plt.imshow(np.squeeze(state_2), interpolation='nearest')\n",
    "plt.hsv()\n",
    "plt.figure()"
   ]
  },
  {
   "cell_type": "code",
   "execution_count": null,
   "metadata": {
    "id": "XLKGwSThg8JF",
    "colab_type": "code",
    "colab": {}
   },
   "outputs": [],
   "source": [
    "#  Show the difference in the middle\n",
    "plt.subplot(1, 3, 2)"
   ]
  },
  {
   "cell_type": "code",
   "execution_count": null,
   "metadata": {
    "id": "MY1aylWohAN_",
    "colab_type": "code",
    "colab": {}
   },
   "outputs": [],
   "source": [
    "plt.imshow(np.squeeze(np.bitwise_xor(state_1, state_2)), interpolation='nearest')\n",
    "plt.hsv()\n",
    "plt.figure()"
   ]
  },
  {
   "cell_type": "code",
   "execution_count": null,
   "metadata": {
    "id": "wlX2h8Mqg8Ly",
    "colab_type": "code",
    "colab": {}
   },
   "outputs": [],
   "source": [
    "#  plot the HW of the difference\n",
    "plt.subplot(1, 1, 1)"
   ]
  },
  {
   "cell_type": "code",
   "execution_count": null,
   "metadata": {
    "id": "G-6SRalzg8Wi",
    "colab_type": "code",
    "colab": {}
   },
   "outputs": [],
   "source": [
    "# plt.bar(hamming_weight(np.bitwise_xor(leak_1, leak_2)))\n",
    "plt.bar(range(1, (np.shape(state_1)[0]) + 1), hamming_weight(np.bitwise_xor(state_1, state_2)))\n",
    "plt.show()"
   ]
  }
 ],
 "metadata": {
  "kernelspec": {
   "display_name": "Python 2",
   "language": "python",
   "name": "python2"
  },
  "language_info": {
   "codemirror_mode": {
    "name": "ipython",
    "version": 2
   },
   "file_extension": ".py",
   "mimetype": "text/x-python",
   "name": "python",
   "nbconvert_exporter": "python",
   "pygments_lexer": "ipython2",
   "version": "2.7.6"
  },
  "colab": {
   "name": "Lecture5.ipynb",
   "provenance": [],
   "include_colab_link": true
  }
 },
 "nbformat": 4,
 "nbformat_minor": 0
}