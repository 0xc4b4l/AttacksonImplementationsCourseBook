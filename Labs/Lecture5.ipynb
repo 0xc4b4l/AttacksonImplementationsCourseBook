{
 "cells": [
  {
   "cell_type": "markdown",
   "metadata": {
    "id": "view-in-github",
    "colab_type": "text"
   },
   "source": [
    "<a href=\"https://colab.research.google.com/github/orel509/AttacksonImplementationsCourseBook/blob/master/Labs/Lecture5.ipynb\" target=\"_parent\"><img src=\"https://colab.research.google.com/assets/colab-badge.svg\" alt=\"Open In Colab\"/></a>"
   ]
  },
  {
   "cell_type": "code",
   "execution_count": null,
   "metadata": {},
   "outputs": [],
   "source": [
    "#Colab support\n",
    "!wget https://raw.githubusercontent.com/orel509/AttacksonImplementationsCourseBook/master/Labs/hamming_weight.py\n",
    "!wget https://raw.githubusercontent.com/orel509/AttacksonImplementationsCourseBook/master/Labs/aes_scripts/aes_lib.py"
   ]
  },
  {
   "cell_type": "code",
   "execution_count": 111,
   "metadata": {
    "tags": []
   },
   "outputs": [
    {
     "output_type": "display_data",
     "data": {
      "text/html": "\n    <div class=\"bk-root\">\n        <a href=\"https://bokeh.org\" target=\"_blank\" class=\"bk-logo bk-logo-small bk-logo-notebook\"></a>\n        <span id=\"29405\">Loading BokehJS ...</span>\n    </div>"
     },
     "metadata": {}
    },
    {
     "output_type": "display_data",
     "data": {
      "application/javascript": "\n(function(root) {\n  function now() {\n    return new Date();\n  }\n\n  var force = true;\n\n  if (typeof root._bokeh_onload_callbacks === \"undefined\" || force === true) {\n    root._bokeh_onload_callbacks = [];\n    root._bokeh_is_loading = undefined;\n  }\n\n  var JS_MIME_TYPE = 'application/javascript';\n  var HTML_MIME_TYPE = 'text/html';\n  var EXEC_MIME_TYPE = 'application/vnd.bokehjs_exec.v0+json';\n  var CLASS_NAME = 'output_bokeh rendered_html';\n\n  /**\n   * Render data to the DOM node\n   */\n  function render(props, node) {\n    var script = document.createElement(\"script\");\n    node.appendChild(script);\n  }\n\n  /**\n   * Handle when an output is cleared or removed\n   */\n  function handleClearOutput(event, handle) {\n    var cell = handle.cell;\n\n    var id = cell.output_area._bokeh_element_id;\n    var server_id = cell.output_area._bokeh_server_id;\n    // Clean up Bokeh references\n    if (id != null && id in Bokeh.index) {\n      Bokeh.index[id].model.document.clear();\n      delete Bokeh.index[id];\n    }\n\n    if (server_id !== undefined) {\n      // Clean up Bokeh references\n      var cmd = \"from bokeh.io.state import curstate; print(curstate().uuid_to_server['\" + server_id + \"'].get_sessions()[0].document.roots[0]._id)\";\n      cell.notebook.kernel.execute(cmd, {\n        iopub: {\n          output: function(msg) {\n            var id = msg.content.text.trim();\n            if (id in Bokeh.index) {\n              Bokeh.index[id].model.document.clear();\n              delete Bokeh.index[id];\n            }\n          }\n        }\n      });\n      // Destroy server and session\n      var cmd = \"import bokeh.io.notebook as ion; ion.destroy_server('\" + server_id + \"')\";\n      cell.notebook.kernel.execute(cmd);\n    }\n  }\n\n  /**\n   * Handle when a new output is added\n   */\n  function handleAddOutput(event, handle) {\n    var output_area = handle.output_area;\n    var output = handle.output;\n\n    // limit handleAddOutput to display_data with EXEC_MIME_TYPE content only\n    if ((output.output_type != \"display_data\") || (!output.data.hasOwnProperty(EXEC_MIME_TYPE))) {\n      return\n    }\n\n    var toinsert = output_area.element.find(\".\" + CLASS_NAME.split(' ')[0]);\n\n    if (output.metadata[EXEC_MIME_TYPE][\"id\"] !== undefined) {\n      toinsert[toinsert.length - 1].firstChild.textContent = output.data[JS_MIME_TYPE];\n      // store reference to embed id on output_area\n      output_area._bokeh_element_id = output.metadata[EXEC_MIME_TYPE][\"id\"];\n    }\n    if (output.metadata[EXEC_MIME_TYPE][\"server_id\"] !== undefined) {\n      var bk_div = document.createElement(\"div\");\n      bk_div.innerHTML = output.data[HTML_MIME_TYPE];\n      var script_attrs = bk_div.children[0].attributes;\n      for (var i = 0; i < script_attrs.length; i++) {\n        toinsert[toinsert.length - 1].firstChild.setAttribute(script_attrs[i].name, script_attrs[i].value);\n        toinsert[toinsert.length - 1].firstChild.textContent = bk_div.children[0].textContent\n      }\n      // store reference to server id on output_area\n      output_area._bokeh_server_id = output.metadata[EXEC_MIME_TYPE][\"server_id\"];\n    }\n  }\n\n  function register_renderer(events, OutputArea) {\n\n    function append_mime(data, metadata, element) {\n      // create a DOM node to render to\n      var toinsert = this.create_output_subarea(\n        metadata,\n        CLASS_NAME,\n        EXEC_MIME_TYPE\n      );\n      this.keyboard_manager.register_events(toinsert);\n      // Render to node\n      var props = {data: data, metadata: metadata[EXEC_MIME_TYPE]};\n      render(props, toinsert[toinsert.length - 1]);\n      element.append(toinsert);\n      return toinsert\n    }\n\n    /* Handle when an output is cleared or removed */\n    events.on('clear_output.CodeCell', handleClearOutput);\n    events.on('delete.Cell', handleClearOutput);\n\n    /* Handle when a new output is added */\n    events.on('output_added.OutputArea', handleAddOutput);\n\n    /**\n     * Register the mime type and append_mime function with output_area\n     */\n    OutputArea.prototype.register_mime_type(EXEC_MIME_TYPE, append_mime, {\n      /* Is output safe? */\n      safe: true,\n      /* Index of renderer in `output_area.display_order` */\n      index: 0\n    });\n  }\n\n  // register the mime type if in Jupyter Notebook environment and previously unregistered\n  if (root.Jupyter !== undefined) {\n    var events = require('base/js/events');\n    var OutputArea = require('notebook/js/outputarea').OutputArea;\n\n    if (OutputArea.prototype.mime_types().indexOf(EXEC_MIME_TYPE) == -1) {\n      register_renderer(events, OutputArea);\n    }\n  }\n\n  \n  if (typeof (root._bokeh_timeout) === \"undefined\" || force === true) {\n    root._bokeh_timeout = Date.now() + 5000;\n    root._bokeh_failed_load = false;\n  }\n\n  var NB_LOAD_WARNING = {'data': {'text/html':\n     \"<div style='background-color: #fdd'>\\n\"+\n     \"<p>\\n\"+\n     \"BokehJS does not appear to have successfully loaded. If loading BokehJS from CDN, this \\n\"+\n     \"may be due to a slow or bad network connection. Possible fixes:\\n\"+\n     \"</p>\\n\"+\n     \"<ul>\\n\"+\n     \"<li>re-rerun `output_notebook()` to attempt to load from CDN again, or</li>\\n\"+\n     \"<li>use INLINE resources instead, as so:</li>\\n\"+\n     \"</ul>\\n\"+\n     \"<code>\\n\"+\n     \"from bokeh.resources import INLINE\\n\"+\n     \"output_notebook(resources=INLINE)\\n\"+\n     \"</code>\\n\"+\n     \"</div>\"}};\n\n  function display_loaded() {\n    var el = document.getElementById(\"29405\");\n    if (el != null) {\n      el.textContent = \"BokehJS is loading...\";\n    }\n    if (root.Bokeh !== undefined) {\n      if (el != null) {\n        el.textContent = \"BokehJS \" + root.Bokeh.version + \" successfully loaded.\";\n      }\n    } else if (Date.now() < root._bokeh_timeout) {\n      setTimeout(display_loaded, 100)\n    }\n  }\n\n\n  function run_callbacks() {\n    try {\n      root._bokeh_onload_callbacks.forEach(function(callback) {\n        if (callback != null)\n          callback();\n      });\n    } finally {\n      delete root._bokeh_onload_callbacks\n    }\n    console.debug(\"Bokeh: all callbacks have finished\");\n  }\n\n  function load_libs(css_urls, js_urls, callback) {\n    if (css_urls == null) css_urls = [];\n    if (js_urls == null) js_urls = [];\n\n    root._bokeh_onload_callbacks.push(callback);\n    if (root._bokeh_is_loading > 0) {\n      console.debug(\"Bokeh: BokehJS is being loaded, scheduling callback at\", now());\n      return null;\n    }\n    if (js_urls == null || js_urls.length === 0) {\n      run_callbacks();\n      return null;\n    }\n    console.debug(\"Bokeh: BokehJS not loaded, scheduling load and callback at\", now());\n    root._bokeh_is_loading = css_urls.length + js_urls.length;\n\n    function on_load() {\n      root._bokeh_is_loading--;\n      if (root._bokeh_is_loading === 0) {\n        console.debug(\"Bokeh: all BokehJS libraries/stylesheets loaded\");\n        run_callbacks()\n      }\n    }\n\n    function on_error() {\n      console.error(\"failed to load \" + url);\n    }\n\n    for (var i = 0; i < css_urls.length; i++) {\n      var url = css_urls[i];\n      const element = document.createElement(\"link\");\n      element.onload = on_load;\n      element.onerror = on_error;\n      element.rel = \"stylesheet\";\n      element.type = \"text/css\";\n      element.href = url;\n      console.debug(\"Bokeh: injecting link tag for BokehJS stylesheet: \", url);\n      document.body.appendChild(element);\n    }\n\n    const hashes = {\"https://cdn.bokeh.org/bokeh/release/bokeh-2.1.1.min.js\": \"kLr4fYcqcSpbuI95brIH3vnnYCquzzSxHPU6XGQCIkQRGJwhg0StNbj1eegrHs12\", \"https://cdn.bokeh.org/bokeh/release/bokeh-widgets-2.1.1.min.js\": \"xIGPmVtaOm+z0BqfSOMn4lOR6ciex448GIKG4eE61LsAvmGj48XcMQZtKcE/UXZe\", \"https://cdn.bokeh.org/bokeh/release/bokeh-tables-2.1.1.min.js\": \"Dc9u1wF/0zApGIWoBbH77iWEHtdmkuYWG839Uzmv8y8yBLXebjO9ZnERsde5Ln/P\", \"https://cdn.bokeh.org/bokeh/release/bokeh-gl-2.1.1.min.js\": \"cT9JaBz7GiRXdENrJLZNSC6eMNF3nh3fa5fTF51Svp+ukxPdwcU5kGXGPBgDCa2j\"};\n\n    for (var i = 0; i < js_urls.length; i++) {\n      var url = js_urls[i];\n      var element = document.createElement('script');\n      element.onload = on_load;\n      element.onerror = on_error;\n      element.async = false;\n      element.src = url;\n      if (url in hashes) {\n        element.crossOrigin = \"anonymous\";\n        element.integrity = \"sha384-\" + hashes[url];\n      }\n      console.debug(\"Bokeh: injecting script tag for BokehJS library: \", url);\n      document.head.appendChild(element);\n    }\n  };\n\n  function inject_raw_css(css) {\n    const element = document.createElement(\"style\");\n    element.appendChild(document.createTextNode(css));\n    document.body.appendChild(element);\n  }\n\n  \n  var js_urls = [\"https://cdn.bokeh.org/bokeh/release/bokeh-2.1.1.min.js\", \"https://cdn.bokeh.org/bokeh/release/bokeh-widgets-2.1.1.min.js\", \"https://cdn.bokeh.org/bokeh/release/bokeh-tables-2.1.1.min.js\", \"https://cdn.bokeh.org/bokeh/release/bokeh-gl-2.1.1.min.js\"];\n  var css_urls = [];\n  \n\n  var inline_js = [\n    function(Bokeh) {\n      Bokeh.set_log_level(\"info\");\n    },\n    function(Bokeh) {\n    \n    \n    }\n  ];\n\n  function run_inline_js() {\n    \n    if (root.Bokeh !== undefined || force === true) {\n      \n    for (var i = 0; i < inline_js.length; i++) {\n      inline_js[i].call(root, root.Bokeh);\n    }\n    if (force === true) {\n        display_loaded();\n      }} else if (Date.now() < root._bokeh_timeout) {\n      setTimeout(run_inline_js, 100);\n    } else if (!root._bokeh_failed_load) {\n      console.log(\"Bokeh: BokehJS failed to load within specified timeout.\");\n      root._bokeh_failed_load = true;\n    } else if (force !== true) {\n      var cell = $(document.getElementById(\"29405\")).parents('.cell').data().cell;\n      cell.output_area.append_execute_result(NB_LOAD_WARNING)\n    }\n\n  }\n\n  if (root._bokeh_is_loading === 0) {\n    console.debug(\"Bokeh: BokehJS loaded, going straight to plotting\");\n    run_inline_js();\n  } else {\n    load_libs(css_urls, js_urls, function() {\n      console.debug(\"Bokeh: BokehJS plotting callback run at\", now());\n      run_inline_js();\n    });\n  }\n}(window));",
      "application/vnd.bokehjs_load.v0+json": "\n(function(root) {\n  function now() {\n    return new Date();\n  }\n\n  var force = true;\n\n  if (typeof root._bokeh_onload_callbacks === \"undefined\" || force === true) {\n    root._bokeh_onload_callbacks = [];\n    root._bokeh_is_loading = undefined;\n  }\n\n  \n\n  \n  if (typeof (root._bokeh_timeout) === \"undefined\" || force === true) {\n    root._bokeh_timeout = Date.now() + 5000;\n    root._bokeh_failed_load = false;\n  }\n\n  var NB_LOAD_WARNING = {'data': {'text/html':\n     \"<div style='background-color: #fdd'>\\n\"+\n     \"<p>\\n\"+\n     \"BokehJS does not appear to have successfully loaded. If loading BokehJS from CDN, this \\n\"+\n     \"may be due to a slow or bad network connection. Possible fixes:\\n\"+\n     \"</p>\\n\"+\n     \"<ul>\\n\"+\n     \"<li>re-rerun `output_notebook()` to attempt to load from CDN again, or</li>\\n\"+\n     \"<li>use INLINE resources instead, as so:</li>\\n\"+\n     \"</ul>\\n\"+\n     \"<code>\\n\"+\n     \"from bokeh.resources import INLINE\\n\"+\n     \"output_notebook(resources=INLINE)\\n\"+\n     \"</code>\\n\"+\n     \"</div>\"}};\n\n  function display_loaded() {\n    var el = document.getElementById(\"29405\");\n    if (el != null) {\n      el.textContent = \"BokehJS is loading...\";\n    }\n    if (root.Bokeh !== undefined) {\n      if (el != null) {\n        el.textContent = \"BokehJS \" + root.Bokeh.version + \" successfully loaded.\";\n      }\n    } else if (Date.now() < root._bokeh_timeout) {\n      setTimeout(display_loaded, 100)\n    }\n  }\n\n\n  function run_callbacks() {\n    try {\n      root._bokeh_onload_callbacks.forEach(function(callback) {\n        if (callback != null)\n          callback();\n      });\n    } finally {\n      delete root._bokeh_onload_callbacks\n    }\n    console.debug(\"Bokeh: all callbacks have finished\");\n  }\n\n  function load_libs(css_urls, js_urls, callback) {\n    if (css_urls == null) css_urls = [];\n    if (js_urls == null) js_urls = [];\n\n    root._bokeh_onload_callbacks.push(callback);\n    if (root._bokeh_is_loading > 0) {\n      console.debug(\"Bokeh: BokehJS is being loaded, scheduling callback at\", now());\n      return null;\n    }\n    if (js_urls == null || js_urls.length === 0) {\n      run_callbacks();\n      return null;\n    }\n    console.debug(\"Bokeh: BokehJS not loaded, scheduling load and callback at\", now());\n    root._bokeh_is_loading = css_urls.length + js_urls.length;\n\n    function on_load() {\n      root._bokeh_is_loading--;\n      if (root._bokeh_is_loading === 0) {\n        console.debug(\"Bokeh: all BokehJS libraries/stylesheets loaded\");\n        run_callbacks()\n      }\n    }\n\n    function on_error() {\n      console.error(\"failed to load \" + url);\n    }\n\n    for (var i = 0; i < css_urls.length; i++) {\n      var url = css_urls[i];\n      const element = document.createElement(\"link\");\n      element.onload = on_load;\n      element.onerror = on_error;\n      element.rel = \"stylesheet\";\n      element.type = \"text/css\";\n      element.href = url;\n      console.debug(\"Bokeh: injecting link tag for BokehJS stylesheet: \", url);\n      document.body.appendChild(element);\n    }\n\n    const hashes = {\"https://cdn.bokeh.org/bokeh/release/bokeh-2.1.1.min.js\": \"kLr4fYcqcSpbuI95brIH3vnnYCquzzSxHPU6XGQCIkQRGJwhg0StNbj1eegrHs12\", \"https://cdn.bokeh.org/bokeh/release/bokeh-widgets-2.1.1.min.js\": \"xIGPmVtaOm+z0BqfSOMn4lOR6ciex448GIKG4eE61LsAvmGj48XcMQZtKcE/UXZe\", \"https://cdn.bokeh.org/bokeh/release/bokeh-tables-2.1.1.min.js\": \"Dc9u1wF/0zApGIWoBbH77iWEHtdmkuYWG839Uzmv8y8yBLXebjO9ZnERsde5Ln/P\", \"https://cdn.bokeh.org/bokeh/release/bokeh-gl-2.1.1.min.js\": \"cT9JaBz7GiRXdENrJLZNSC6eMNF3nh3fa5fTF51Svp+ukxPdwcU5kGXGPBgDCa2j\"};\n\n    for (var i = 0; i < js_urls.length; i++) {\n      var url = js_urls[i];\n      var element = document.createElement('script');\n      element.onload = on_load;\n      element.onerror = on_error;\n      element.async = false;\n      element.src = url;\n      if (url in hashes) {\n        element.crossOrigin = \"anonymous\";\n        element.integrity = \"sha384-\" + hashes[url];\n      }\n      console.debug(\"Bokeh: injecting script tag for BokehJS library: \", url);\n      document.head.appendChild(element);\n    }\n  };\n\n  function inject_raw_css(css) {\n    const element = document.createElement(\"style\");\n    element.appendChild(document.createTextNode(css));\n    document.body.appendChild(element);\n  }\n\n  \n  var js_urls = [\"https://cdn.bokeh.org/bokeh/release/bokeh-2.1.1.min.js\", \"https://cdn.bokeh.org/bokeh/release/bokeh-widgets-2.1.1.min.js\", \"https://cdn.bokeh.org/bokeh/release/bokeh-tables-2.1.1.min.js\", \"https://cdn.bokeh.org/bokeh/release/bokeh-gl-2.1.1.min.js\"];\n  var css_urls = [];\n  \n\n  var inline_js = [\n    function(Bokeh) {\n      Bokeh.set_log_level(\"info\");\n    },\n    function(Bokeh) {\n    \n    \n    }\n  ];\n\n  function run_inline_js() {\n    \n    if (root.Bokeh !== undefined || force === true) {\n      \n    for (var i = 0; i < inline_js.length; i++) {\n      inline_js[i].call(root, root.Bokeh);\n    }\n    if (force === true) {\n        display_loaded();\n      }} else if (Date.now() < root._bokeh_timeout) {\n      setTimeout(run_inline_js, 100);\n    } else if (!root._bokeh_failed_load) {\n      console.log(\"Bokeh: BokehJS failed to load within specified timeout.\");\n      root._bokeh_failed_load = true;\n    } else if (force !== true) {\n      var cell = $(document.getElementById(\"29405\")).parents('.cell').data().cell;\n      cell.output_area.append_execute_result(NB_LOAD_WARNING)\n    }\n\n  }\n\n  if (root._bokeh_is_loading === 0) {\n    console.debug(\"Bokeh: BokehJS loaded, going straight to plotting\");\n    run_inline_js();\n  } else {\n    load_libs(css_urls, js_urls, function() {\n      console.debug(\"Bokeh: BokehJS plotting callback run at\", now());\n      run_inline_js();\n    });\n  }\n}(window));"
     },
     "metadata": {}
    }
   ],
   "source": [
    "import matplotlib.pyplot as plt\n",
    "import numpy as np\n",
    "from hamming_weight import hamming_weight\n",
    "#from aes_scripts.aes_crypt_8bit import aes_crypt_8bit\n",
    "#from aes_scripts.aes_crypt_8bit_and_leak import aes_crypt_8bit_and_leak\n",
    "from aes_lib import aes_crypt_8bit, aes_crypt_8bit_and_leak\n",
    "\n",
    "!pip install -U -q bokeh\n",
    "from bokeh.plotting import figure, show\n",
    "from bokeh.layouts import row\n",
    "from bokeh.models import Range1d, ColorBar, LogColorMapper, LogTicker\n",
    "from bokeh.io import output_notebook\n",
    "# Call once to configure Bokeh to display plots inline in the notebook.\n",
    "output_notebook()"
   ]
  },
  {
   "cell_type": "code",
   "execution_count": 112,
   "metadata": {
    "id": "yMABJHgMeN1K",
    "colab_type": "code",
    "colab": {}
   },
   "outputs": [],
   "source": [
    "#  Make sure the matlab AES scripts are in the path\n",
    "# #\n",
    "#  Create two 128-bit plaintexts (exactly 16 byte)\n",
    "pt1 = []\n",
    "pt2 = []\n",
    "for b1 in bytes('Attack at 12:56!', 'utf-8'):\n",
    "  pt1 += [b1]\n",
    "for b2 in bytes('Attack at 12:57!', 'utf-8'):\n",
    "  pt2 += [b2]\n",
    "\n",
    "plaintext_1 = np.uint8(pt1)\n",
    "plaintext_1_1 = np.asmatrix(plaintext_1)\n",
    "plaintext_2 = np.uint8(pt2)\n",
    "plaintext_2_2 = np.asmatrix(plaintext_2)"
   ]
  },
  {
   "cell_type": "code",
   "execution_count": 113,
   "metadata": {
    "id": "MyRLKeCPh0Zd",
    "colab_type": "code",
    "colab": {},
    "tags": []
   },
   "outputs": [
    {
     "output_type": "stream",
     "name": "stdout",
     "text": "1.0\n"
    }
   ],
   "source": [
    "#  how many bits are different between the two?\n",
    "res = hamming_weight(np.bitwise_xor(plaintext_1_1, plaintext_2_2))\n",
    "print(res)"
   ]
  },
  {
   "cell_type": "code",
   "execution_count": 114,
   "metadata": {
    "id": "i3KLIluDh0hn",
    "colab_type": "code",
    "colab": {}
   },
   "outputs": [],
   "source": [
    "#  Create a key\n",
    "key_bytes = []\n",
    "for byte in bytes('1234512345123456', 'utf-8'):\n",
    "  key_bytes += [byte]\n",
    "\n",
    "key = np.uint8(key_bytes)\n",
    "key = np.asmatrix(key)"
   ]
  },
  {
   "cell_type": "code",
   "execution_count": 115,
   "metadata": {
    "id": "MSTydhtcguC0",
    "colab_type": "code",
    "colab": {}
   },
   "outputs": [],
   "source": [
    "ENCRYPT = 1\n",
    "DECRYPT = 0\n",
    "#  Encrypt the two plaintexts\n",
    "ciphertext_1 = aes_crypt_8bit(plaintext_1_1, key, ENCRYPT)\n",
    "ciphertext_2 = aes_crypt_8bit(plaintext_2_2, key, ENCRYPT)"
   ]
  },
  {
   "cell_type": "code",
   "execution_count": 116,
   "metadata": {
    "tags": []
   },
   "outputs": [
    {
     "output_type": "stream",
     "name": "stdout",
     "text": "[ 65 116 116  97  99 107  32  97 116  32  49  50  58  53  54  33]\n[ 65 116 116  97  99 107  32  97 116  32  49  50  58  53  55  33]\n[[ 42 180 180  19 227 238 187 238 237 110   2   6 107 141 160 183]]\n[[ 10 223  79  16  74 212 232 141  41  91 134  32 110 141  36 110]]\n"
    }
   ],
   "source": [
    "#  even though the plaintexts were very similar...\n",
    "print(plaintext_1)\n",
    "print(plaintext_2)\n",
    "#  ... the ciphertexts are very different\n",
    "print(ciphertext_1)\n",
    "print(ciphertext_2)"
   ]
  },
  {
   "cell_type": "code",
   "execution_count": 117,
   "metadata": {
    "id": "TczPHJaohblr",
    "colab_type": "code",
    "colab": {},
    "tags": []
   },
   "outputs": [
    {
     "output_type": "stream",
     "name": "stdout",
     "text": "52.0\n"
    }
   ],
   "source": [
    "#  how many bits are different between the two?\n",
    "print(hamming_weight(np.bitwise_xor(ciphertext_1, ciphertext_2)))"
   ]
  },
  {
   "cell_type": "code",
   "execution_count": 118,
   "metadata": {
    "id": "JI2q9IE0hYWV",
    "colab_type": "code",
    "colab": {}
   },
   "outputs": [],
   "source": [
    "#  Decrypt the two ciphertexts\n",
    "decrypted_1 =  aes_crypt_8bit(ciphertext_1, key, DECRYPT)\n",
    "decrypted_2 =  aes_crypt_8bit(ciphertext_2, key, DECRYPT)"
   ]
  },
  {
   "cell_type": "code",
   "execution_count": 119,
   "metadata": {
    "id": "-UKwCDuohYYo",
    "colab_type": "code",
    "colab": {},
    "tags": []
   },
   "outputs": [
    {
     "output_type": "stream",
     "name": "stdout",
     "text": "[ 65 116 116  97  99 107  32  97 116  32  49  50  58  53  54  33]\n[ 65 116 116  97  99 107  32  97 116  32  49  50  58  53  55  33]\n[[ 65 116 116  97  99 107  32  97 116  32  49  50  58  53  54  33]]\n[[ 65 116 116  97  99 107  32  97 116  32  49  50  58  53  55  33]]\n"
    }
   ],
   "source": [
    "#  Did we get the plaintext again?\n",
    "print(plaintext_1)\n",
    "print(plaintext_2)\n",
    "print(decrypted_1)\n",
    "print(decrypted_2)"
   ]
  },
  {
   "cell_type": "code",
   "execution_count": 120,
   "metadata": {
    "id": "sI4nfhA2hTTj",
    "colab_type": "code",
    "colab": {}
   },
   "outputs": [],
   "source": [
    "#  Look at the internals of AES now\n",
    "[ciphertext_1, state_1, _, leak_1] = aes_crypt_8bit_and_leak(plaintext_1_1, key, ENCRYPT)\n",
    "[ciphertext_2, state_2, _, leak_2] = aes_crypt_8bit_and_leak(plaintext_2_2, key, ENCRYPT)"
   ]
  },
  {
   "cell_type": "code",
   "execution_count": 121,
   "metadata": {},
   "outputs": [],
   "source": [
    "def getHeatMap(title, data, dh, dw):\n",
    "    #indMax = np.unravel_index(np.argmax(data, axis=None), data.shape)\n",
    "    #print(np.shape(data), data[indMax])    \n",
    "    color_mapper = LogColorMapper(palette=\"Turbo256\", low=1, high=256)\n",
    "    #Log heatmap\n",
    "\n",
    "    fig = figure(title=title, x_range=(0,dw), y_range=(0,dh),\n",
    "        tooltips=[(\"x\", \"$x\"), (\"y\", \"$y\"), (\"value\", \"@image\")], plot_height=700, plot_width=350)\n",
    "    fig.image(image=[data], x=0, y=0, dw=dw, dh=dh, color_mapper=color_mapper, level=\"image\")\n",
    "    #palette values-https://docs.bokeh.org/en/latest/docs/reference/palettes.html\n",
    "\n",
    "    #add heat map\n",
    "    color_bar = ColorBar(color_mapper=color_mapper, ticker=LogTicker(),\n",
    "                        label_standoff=12, border_line_color=None, location=(0,0))\n",
    "    fig.add_layout(color_bar, 'right')\n",
    "    #show(fig)\n",
    "    return fig"
   ]
  },
  {
   "cell_type": "code",
   "execution_count": 122,
   "metadata": {
    "tags": []
   },
   "outputs": [
    {
     "output_type": "display_data",
     "data": {
      "text/html": "\n\n\n\n\n\n  <div class=\"bk-root\" id=\"0104386c-26d8-4d25-9a14-b67f3f9fc1dd\" data-root-id=\"29538\"></div>\n"
     },
     "metadata": {}
    },
    {
     "output_type": "display_data",
     "data": {
      "application/javascript": "(function(root) {\n  function embed_document(root) {\n    \n  var docs_json = {\"7c56025e-143b-471a-ac4f-20277f47ae0f\":{\"roots\":{\"references\":[{\"attributes\":{\"children\":[{\"id\":\"29407\"},{\"id\":\"29495\"},{\"id\":\"29451\"}]},\"id\":\"29538\",\"type\":\"Row\"},{\"attributes\":{},\"id\":\"30402\",\"type\":\"Selection\"},{\"attributes\":{\"color_mapper\":{\"id\":\"29450\"},\"dh\":{\"units\":\"data\",\"value\":41},\"dw\":{\"units\":\"data\",\"value\":16},\"global_alpha\":0.1,\"image\":{\"field\":\"image\"},\"x\":{\"value\":0},\"y\":{\"value\":0}},\"id\":\"29488\",\"type\":\"Image\"},{\"attributes\":{},\"id\":\"30403\",\"type\":\"UnionRenderers\"},{\"attributes\":{},\"id\":\"29423\",\"type\":\"BasicTicker\"},{\"attributes\":{},\"id\":\"29431\",\"type\":\"HelpTool\"},{\"attributes\":{},\"id\":\"30386\",\"type\":\"BasicTickFormatter\"},{\"attributes\":{},\"id\":\"30383\",\"type\":\"BasicTickFormatter\"},{\"attributes\":{},\"id\":\"30385\",\"type\":\"BasicTickFormatter\"},{\"attributes\":{\"color_mapper\":{\"id\":\"29494\"},\"formatter\":{\"id\":\"30386\"},\"label_standoff\":12,\"location\":[0,0],\"ticker\":{\"id\":\"29535\"}},\"id\":\"29536\",\"type\":\"ColorBar\"},{\"attributes\":{\"active_drag\":\"auto\",\"active_inspect\":\"auto\",\"active_multi\":null,\"active_scroll\":\"auto\",\"active_tap\":\"auto\",\"tools\":[{\"id\":\"29514\"},{\"id\":\"29515\"},{\"id\":\"29516\"},{\"id\":\"29517\"},{\"id\":\"29518\"},{\"id\":\"29519\"},{\"id\":\"29521\"}]},\"id\":\"29522\",\"type\":\"Toolbar\"},{\"attributes\":{\"source\":{\"id\":\"29530\"}},\"id\":\"29534\",\"type\":\"CDSView\"},{\"attributes\":{},\"id\":\"30381\",\"type\":\"BasicTickFormatter\"},{\"attributes\":{\"callback\":null,\"tooltips\":[[\"x\",\"$x\"],[\"y\",\"$y\"],[\"value\",\"@image\"]]},\"id\":\"29433\",\"type\":\"HoverTool\"},{\"attributes\":{},\"id\":\"30399\",\"type\":\"Selection\"},{\"attributes\":{\"axis\":{\"id\":\"29418\"},\"ticker\":null},\"id\":\"29421\",\"type\":\"Grid\"},{\"attributes\":{\"bottom_units\":\"screen\",\"fill_alpha\":0.5,\"fill_color\":\"lightgrey\",\"left_units\":\"screen\",\"level\":\"overlay\",\"line_alpha\":1.0,\"line_color\":\"black\",\"line_dash\":[4,4],\"line_width\":2,\"right_units\":\"screen\",\"top_units\":\"screen\"},\"id\":\"29476\",\"type\":\"BoxAnnotation\"},{\"attributes\":{\"formatter\":{\"id\":\"30383\"},\"ticker\":{\"id\":\"29423\"}},\"id\":\"29422\",\"type\":\"LinearAxis\"},{\"attributes\":{\"formatter\":{\"id\":\"30385\"},\"ticker\":{\"id\":\"29419\"}},\"id\":\"29418\",\"type\":\"LinearAxis\"},{\"attributes\":{},\"id\":\"30393\",\"type\":\"BasicTickFormatter\"},{\"attributes\":{},\"id\":\"29430\",\"type\":\"ResetTool\"},{\"attributes\":{},\"id\":\"30400\",\"type\":\"UnionRenderers\"},{\"attributes\":{},\"id\":\"29427\",\"type\":\"WheelZoomTool\"},{\"attributes\":{\"color_mapper\":{\"id\":\"29450\"},\"formatter\":{\"id\":\"30391\"},\"label_standoff\":12,\"location\":[0,0],\"ticker\":{\"id\":\"29491\"}},\"id\":\"29492\",\"type\":\"ColorBar\"},{\"attributes\":{},\"id\":\"29426\",\"type\":\"PanTool\"},{\"attributes\":{\"text\":\"Plaintext 1 leaks\"},\"id\":\"29408\",\"type\":\"Title\"},{\"attributes\":{\"high\":256,\"low\":1,\"palette\":[\"#30123b\",\"#311542\",\"#32184a\",\"#341b51\",\"#351e58\",\"#36215f\",\"#372365\",\"#38266c\",\"#392972\",\"#3a2c79\",\"#3b2f7f\",\"#3c3285\",\"#3c358b\",\"#3d3791\",\"#3e3a96\",\"#3f3d9c\",\"#4040a1\",\"#4043a6\",\"#4145ab\",\"#4148b0\",\"#424bb5\",\"#434eba\",\"#4350be\",\"#4353c2\",\"#4456c7\",\"#4458cb\",\"#455bce\",\"#455ed2\",\"#4560d6\",\"#4563d9\",\"#4666dd\",\"#4668e0\",\"#466be3\",\"#466de6\",\"#4670e8\",\"#4673eb\",\"#4675ed\",\"#4678f0\",\"#467af2\",\"#467df4\",\"#467ff6\",\"#4682f8\",\"#4584f9\",\"#4587fb\",\"#4589fc\",\"#448cfd\",\"#438efd\",\"#4291fe\",\"#4193fe\",\"#4096fe\",\"#3f98fe\",\"#3e9bfe\",\"#3c9dfd\",\"#3ba0fc\",\"#39a2fc\",\"#38a5fb\",\"#36a8f9\",\"#34aaf8\",\"#33acf6\",\"#31aff5\",\"#2fb1f3\",\"#2db4f1\",\"#2bb6ef\",\"#2ab9ed\",\"#28bbeb\",\"#26bde9\",\"#25c0e6\",\"#23c2e4\",\"#21c4e1\",\"#20c6df\",\"#1ec9dc\",\"#1dcbda\",\"#1ccdd7\",\"#1bcfd4\",\"#1ad1d2\",\"#19d3cf\",\"#18d5cc\",\"#18d7ca\",\"#17d9c7\",\"#17dac4\",\"#17dcc2\",\"#17debf\",\"#18e0bd\",\"#18e1ba\",\"#19e3b8\",\"#1ae4b6\",\"#1be5b4\",\"#1de7b1\",\"#1ee8af\",\"#20e9ac\",\"#22eba9\",\"#24eca6\",\"#27eda3\",\"#29eea0\",\"#2cef9d\",\"#2ff09a\",\"#32f197\",\"#35f394\",\"#38f491\",\"#3bf48d\",\"#3ff58a\",\"#42f687\",\"#46f783\",\"#4af880\",\"#4df97c\",\"#51f979\",\"#55fa76\",\"#59fb72\",\"#5dfb6f\",\"#61fc6c\",\"#65fc68\",\"#69fd65\",\"#6dfd62\",\"#71fd5f\",\"#74fe5c\",\"#78fe59\",\"#7cfe56\",\"#80fe53\",\"#84fe50\",\"#87fe4d\",\"#8bfe4b\",\"#8efe48\",\"#92fe46\",\"#95fe44\",\"#98fe42\",\"#9bfd40\",\"#9efd3e\",\"#a1fc3d\",\"#a4fc3b\",\"#a6fb3a\",\"#a9fb39\",\"#acfa37\",\"#aef937\",\"#b1f836\",\"#b3f835\",\"#b6f735\",\"#b9f534\",\"#bbf434\",\"#bef334\",\"#c0f233\",\"#c3f133\",\"#c5ef33\",\"#c8ee33\",\"#caed33\",\"#cdeb34\",\"#cfea34\",\"#d1e834\",\"#d4e735\",\"#d6e535\",\"#d8e335\",\"#dae236\",\"#dde036\",\"#dfde36\",\"#e1dc37\",\"#e3da37\",\"#e5d838\",\"#e7d738\",\"#e8d538\",\"#ead339\",\"#ecd139\",\"#edcf39\",\"#efcd39\",\"#f0cb3a\",\"#f2c83a\",\"#f3c63a\",\"#f4c43a\",\"#f6c23a\",\"#f7c039\",\"#f8be39\",\"#f9bc39\",\"#f9ba38\",\"#fab737\",\"#fbb537\",\"#fbb336\",\"#fcb035\",\"#fcae34\",\"#fdab33\",\"#fda932\",\"#fda631\",\"#fda330\",\"#fea12f\",\"#fe9e2e\",\"#fe9b2d\",\"#fe982c\",\"#fd952b\",\"#fd9229\",\"#fd8f28\",\"#fd8c27\",\"#fc8926\",\"#fc8624\",\"#fb8323\",\"#fb8022\",\"#fa7d20\",\"#fa7a1f\",\"#f9771e\",\"#f8741c\",\"#f7711b\",\"#f76e1a\",\"#f66b18\",\"#f56817\",\"#f46516\",\"#f36315\",\"#f26014\",\"#f15d13\",\"#ef5a11\",\"#ee5810\",\"#ed550f\",\"#ec520e\",\"#ea500d\",\"#e94d0d\",\"#e84b0c\",\"#e6490b\",\"#e5460a\",\"#e3440a\",\"#e24209\",\"#e04008\",\"#de3e08\",\"#dd3c07\",\"#db3a07\",\"#d93806\",\"#d73606\",\"#d63405\",\"#d43205\",\"#d23005\",\"#d02f04\",\"#ce2d04\",\"#cb2b03\",\"#c92903\",\"#c72803\",\"#c52602\",\"#c32402\",\"#c02302\",\"#be2102\",\"#bb1f01\",\"#b91e01\",\"#b61c01\",\"#b41b01\",\"#b11901\",\"#ae1801\",\"#ac1601\",\"#a91501\",\"#a61401\",\"#a31201\",\"#a01101\",\"#9d1001\",\"#9a0e01\",\"#970d01\",\"#940c01\",\"#910b01\",\"#8e0a01\",\"#8b0901\",\"#870801\",\"#840701\",\"#810602\",\"#7d0502\",\"#7a0402\"]},\"id\":\"29450\",\"type\":\"LogColorMapper\"},{\"attributes\":{\"overlay\":{\"id\":\"29432\"}},\"id\":\"29428\",\"type\":\"BoxZoomTool\"},{\"attributes\":{\"end\":16},\"id\":\"29410\",\"type\":\"Range1d\"},{\"attributes\":{\"below\":[{\"id\":\"29418\"}],\"center\":[{\"id\":\"29421\"},{\"id\":\"29425\"}],\"left\":[{\"id\":\"29422\"}],\"plot_height\":700,\"plot_width\":350,\"renderers\":[{\"id\":\"29445\"}],\"right\":[{\"id\":\"29448\"}],\"title\":{\"id\":\"29408\"},\"toolbar\":{\"id\":\"29434\"},\"x_range\":{\"id\":\"29410\"},\"x_scale\":{\"id\":\"29414\"},\"y_range\":{\"id\":\"29412\"},\"y_scale\":{\"id\":\"29416\"}},\"id\":\"29407\",\"subtype\":\"Figure\",\"type\":\"Plot\"},{\"attributes\":{\"axis\":{\"id\":\"29422\"},\"dimension\":1,\"ticker\":null},\"id\":\"29425\",\"type\":\"Grid\"},{\"attributes\":{\"bottom_units\":\"screen\",\"fill_alpha\":0.5,\"fill_color\":\"lightgrey\",\"left_units\":\"screen\",\"level\":\"overlay\",\"line_alpha\":1.0,\"line_color\":\"black\",\"line_dash\":[4,4],\"line_width\":2,\"right_units\":\"screen\",\"top_units\":\"screen\"},\"id\":\"29432\",\"type\":\"BoxAnnotation\"},{\"attributes\":{},\"id\":\"29419\",\"type\":\"BasicTicker\"},{\"attributes\":{\"data\":{\"image\":[{\"__ndarray__\":\"QXR0YWNrIGF0IDEyOjU2IXBGR1VWWhJSQBUAAAkBAxdRWqD8sb7JAAlZY2MBfHvwUb5j8LFZe/wJfKAAAVrJY+hjItUVcgEJNgoux0aWd1bAxxQiCOcFzR+qGzFcAneWusb6kzCUa73ArK/HSnf1kLqUr5AwrPWTwHf6vUrGa8f388DV6eTDNEWGhLdppwjm/zRMgPy2S6V5dDnQT8G1QRYYKc2wTrMGtpIScIR41YMWThKDsJLVzbZ4KQaEGLNwbz/ie84m3w3QO5ac+Apx3FCCMtnkyYc+xiZzyMhxKS9TEyM1ad0XsrT3j+joo6UVU92PFWn3pTW0oyOy6BMX6EBttI1AXZCDHD6cOAEf9uxWumkrfGUVFjYb/PkbQc7esfT58RBNWUcFr7CZr4OLHbFNsB0Qr4vxBYP5R6/0WZkD/aAPsCK67SpPpvuCLlluXS1eC9LKwXxigr2r0L16DEzYWCu1dHgQqhN6YnB62v5MdHr+tRPaK6p6WBBw2HhigNTVPbXNdFuJplDniTH+9CIigTl101vOAXVkIlNx6VOTkwwSnWY5i3ydQ5Ptox7tk2ZD7Z2dHhJ8owyL7ZM5kzl3X0qRjAobgb5BJsUIorvScVcZupQt3SJ1UiW8g6YftaNb1PQi2MGTnQA/ZewkwLUiAMD0nSTUk+xbwWWj2D/XMcx9v21GDYh8kYDTdCyqgcWNmMKBIC5WW+SgdNhdLgymXUYlDLcxsTlp4JJhTDEMDGkxJTlMRrFhXTGSprfgVJ6BEwvFTpa2pTmWmed6Z4jJn6qqfjYMyTk0LEHXBlnE3dusrPMF/t0SGHGDDm/LxPMYy6wSb6zdDtv+g90FcSq0tBPj7rvu7W4CBmuNoLc=\",\"dtype\":\"uint8\",\"order\":\"little\",\"shape\":[41,16]}]},\"selected\":{\"id\":\"30396\"},\"selection_policy\":{\"id\":\"30397\"}},\"id\":\"29442\",\"type\":\"ColumnDataSource\"},{\"attributes\":{},\"id\":\"29535\",\"type\":\"LogTicker\"},{\"attributes\":{\"below\":[{\"id\":\"29462\"}],\"center\":[{\"id\":\"29465\"},{\"id\":\"29469\"}],\"left\":[{\"id\":\"29466\"}],\"plot_height\":700,\"plot_width\":350,\"renderers\":[{\"id\":\"29489\"}],\"right\":[{\"id\":\"29492\"}],\"title\":{\"id\":\"29452\"},\"toolbar\":{\"id\":\"29478\"},\"x_range\":{\"id\":\"29454\"},\"x_scale\":{\"id\":\"29458\"},\"y_range\":{\"id\":\"29456\"},\"y_scale\":{\"id\":\"29460\"}},\"id\":\"29451\",\"subtype\":\"Figure\",\"type\":\"Plot\"},{\"attributes\":{\"color_mapper\":{\"id\":\"29406\"},\"dh\":{\"units\":\"data\",\"value\":41},\"dw\":{\"units\":\"data\",\"value\":16},\"image\":{\"field\":\"image\"},\"x\":{\"value\":0},\"y\":{\"value\":0}},\"id\":\"29443\",\"type\":\"Image\"},{\"attributes\":{},\"id\":\"29416\",\"type\":\"LinearScale\"},{\"attributes\":{\"end\":41},\"id\":\"29412\",\"type\":\"Range1d\"},{\"attributes\":{},\"id\":\"29414\",\"type\":\"LinearScale\"},{\"attributes\":{\"high\":256,\"low\":1,\"palette\":[\"#30123b\",\"#311542\",\"#32184a\",\"#341b51\",\"#351e58\",\"#36215f\",\"#372365\",\"#38266c\",\"#392972\",\"#3a2c79\",\"#3b2f7f\",\"#3c3285\",\"#3c358b\",\"#3d3791\",\"#3e3a96\",\"#3f3d9c\",\"#4040a1\",\"#4043a6\",\"#4145ab\",\"#4148b0\",\"#424bb5\",\"#434eba\",\"#4350be\",\"#4353c2\",\"#4456c7\",\"#4458cb\",\"#455bce\",\"#455ed2\",\"#4560d6\",\"#4563d9\",\"#4666dd\",\"#4668e0\",\"#466be3\",\"#466de6\",\"#4670e8\",\"#4673eb\",\"#4675ed\",\"#4678f0\",\"#467af2\",\"#467df4\",\"#467ff6\",\"#4682f8\",\"#4584f9\",\"#4587fb\",\"#4589fc\",\"#448cfd\",\"#438efd\",\"#4291fe\",\"#4193fe\",\"#4096fe\",\"#3f98fe\",\"#3e9bfe\",\"#3c9dfd\",\"#3ba0fc\",\"#39a2fc\",\"#38a5fb\",\"#36a8f9\",\"#34aaf8\",\"#33acf6\",\"#31aff5\",\"#2fb1f3\",\"#2db4f1\",\"#2bb6ef\",\"#2ab9ed\",\"#28bbeb\",\"#26bde9\",\"#25c0e6\",\"#23c2e4\",\"#21c4e1\",\"#20c6df\",\"#1ec9dc\",\"#1dcbda\",\"#1ccdd7\",\"#1bcfd4\",\"#1ad1d2\",\"#19d3cf\",\"#18d5cc\",\"#18d7ca\",\"#17d9c7\",\"#17dac4\",\"#17dcc2\",\"#17debf\",\"#18e0bd\",\"#18e1ba\",\"#19e3b8\",\"#1ae4b6\",\"#1be5b4\",\"#1de7b1\",\"#1ee8af\",\"#20e9ac\",\"#22eba9\",\"#24eca6\",\"#27eda3\",\"#29eea0\",\"#2cef9d\",\"#2ff09a\",\"#32f197\",\"#35f394\",\"#38f491\",\"#3bf48d\",\"#3ff58a\",\"#42f687\",\"#46f783\",\"#4af880\",\"#4df97c\",\"#51f979\",\"#55fa76\",\"#59fb72\",\"#5dfb6f\",\"#61fc6c\",\"#65fc68\",\"#69fd65\",\"#6dfd62\",\"#71fd5f\",\"#74fe5c\",\"#78fe59\",\"#7cfe56\",\"#80fe53\",\"#84fe50\",\"#87fe4d\",\"#8bfe4b\",\"#8efe48\",\"#92fe46\",\"#95fe44\",\"#98fe42\",\"#9bfd40\",\"#9efd3e\",\"#a1fc3d\",\"#a4fc3b\",\"#a6fb3a\",\"#a9fb39\",\"#acfa37\",\"#aef937\",\"#b1f836\",\"#b3f835\",\"#b6f735\",\"#b9f534\",\"#bbf434\",\"#bef334\",\"#c0f233\",\"#c3f133\",\"#c5ef33\",\"#c8ee33\",\"#caed33\",\"#cdeb34\",\"#cfea34\",\"#d1e834\",\"#d4e735\",\"#d6e535\",\"#d8e335\",\"#dae236\",\"#dde036\",\"#dfde36\",\"#e1dc37\",\"#e3da37\",\"#e5d838\",\"#e7d738\",\"#e8d538\",\"#ead339\",\"#ecd139\",\"#edcf39\",\"#efcd39\",\"#f0cb3a\",\"#f2c83a\",\"#f3c63a\",\"#f4c43a\",\"#f6c23a\",\"#f7c039\",\"#f8be39\",\"#f9bc39\",\"#f9ba38\",\"#fab737\",\"#fbb537\",\"#fbb336\",\"#fcb035\",\"#fcae34\",\"#fdab33\",\"#fda932\",\"#fda631\",\"#fda330\",\"#fea12f\",\"#fe9e2e\",\"#fe9b2d\",\"#fe982c\",\"#fd952b\",\"#fd9229\",\"#fd8f28\",\"#fd8c27\",\"#fc8926\",\"#fc8624\",\"#fb8323\",\"#fb8022\",\"#fa7d20\",\"#fa7a1f\",\"#f9771e\",\"#f8741c\",\"#f7711b\",\"#f76e1a\",\"#f66b18\",\"#f56817\",\"#f46516\",\"#f36315\",\"#f26014\",\"#f15d13\",\"#ef5a11\",\"#ee5810\",\"#ed550f\",\"#ec520e\",\"#ea500d\",\"#e94d0d\",\"#e84b0c\",\"#e6490b\",\"#e5460a\",\"#e3440a\",\"#e24209\",\"#e04008\",\"#de3e08\",\"#dd3c07\",\"#db3a07\",\"#d93806\",\"#d73606\",\"#d63405\",\"#d43205\",\"#d23005\",\"#d02f04\",\"#ce2d04\",\"#cb2b03\",\"#c92903\",\"#c72803\",\"#c52602\",\"#c32402\",\"#c02302\",\"#be2102\",\"#bb1f01\",\"#b91e01\",\"#b61c01\",\"#b41b01\",\"#b11901\",\"#ae1801\",\"#ac1601\",\"#a91501\",\"#a61401\",\"#a31201\",\"#a01101\",\"#9d1001\",\"#9a0e01\",\"#970d01\",\"#940c01\",\"#910b01\",\"#8e0a01\",\"#8b0901\",\"#870801\",\"#840701\",\"#810602\",\"#7d0502\",\"#7a0402\"]},\"id\":\"29406\",\"type\":\"LogColorMapper\"},{\"attributes\":{\"color_mapper\":{\"id\":\"29494\"},\"dh\":{\"units\":\"data\",\"value\":41},\"dw\":{\"units\":\"data\",\"value\":16},\"global_alpha\":0.1,\"image\":{\"field\":\"image\"},\"x\":{\"value\":0},\"y\":{\"value\":0}},\"id\":\"29532\",\"type\":\"Image\"},{\"attributes\":{},\"id\":\"30388\",\"type\":\"BasicTickFormatter\"},{\"attributes\":{\"data_source\":{\"id\":\"29530\"},\"glyph\":{\"id\":\"29531\"},\"hover_glyph\":null,\"level\":\"image\",\"muted_glyph\":null,\"nonselection_glyph\":{\"id\":\"29532\"},\"selection_glyph\":null,\"view\":{\"id\":\"29534\"}},\"id\":\"29533\",\"type\":\"GlyphRenderer\"},{\"attributes\":{\"formatter\":{\"id\":\"30388\"},\"ticker\":{\"id\":\"29511\"}},\"id\":\"29510\",\"type\":\"LinearAxis\"},{\"attributes\":{\"color_mapper\":{\"id\":\"29450\"},\"dh\":{\"units\":\"data\",\"value\":41},\"dw\":{\"units\":\"data\",\"value\":16},\"image\":{\"field\":\"image\"},\"x\":{\"value\":0},\"y\":{\"value\":0}},\"id\":\"29487\",\"type\":\"Image\"},{\"attributes\":{},\"id\":\"30395\",\"type\":\"BasicTickFormatter\"},{\"attributes\":{},\"id\":\"29447\",\"type\":\"LogTicker\"},{\"attributes\":{},\"id\":\"29473\",\"type\":\"SaveTool\"},{\"attributes\":{\"overlay\":{\"id\":\"29520\"}},\"id\":\"29516\",\"type\":\"BoxZoomTool\"},{\"attributes\":{},\"id\":\"29467\",\"type\":\"BasicTicker\"},{\"attributes\":{},\"id\":\"29507\",\"type\":\"BasicTicker\"},{\"attributes\":{\"formatter\":{\"id\":\"30393\"},\"ticker\":{\"id\":\"29467\"}},\"id\":\"29466\",\"type\":\"LinearAxis\"},{\"attributes\":{\"end\":41},\"id\":\"29500\",\"type\":\"Range1d\"},{\"attributes\":{\"axis\":{\"id\":\"29466\"},\"dimension\":1,\"ticker\":null},\"id\":\"29469\",\"type\":\"Grid\"},{\"attributes\":{\"bottom_units\":\"screen\",\"fill_alpha\":0.5,\"fill_color\":\"lightgrey\",\"left_units\":\"screen\",\"level\":\"overlay\",\"line_alpha\":1.0,\"line_color\":\"black\",\"line_dash\":[4,4],\"line_width\":2,\"right_units\":\"screen\",\"top_units\":\"screen\"},\"id\":\"29520\",\"type\":\"BoxAnnotation\"},{\"attributes\":{\"end\":41},\"id\":\"29456\",\"type\":\"Range1d\"},{\"attributes\":{},\"id\":\"29515\",\"type\":\"WheelZoomTool\"},{\"attributes\":{},\"id\":\"30397\",\"type\":\"UnionRenderers\"},{\"attributes\":{\"data_source\":{\"id\":\"29442\"},\"glyph\":{\"id\":\"29443\"},\"hover_glyph\":null,\"level\":\"image\",\"muted_glyph\":null,\"nonselection_glyph\":{\"id\":\"29444\"},\"selection_glyph\":null,\"view\":{\"id\":\"29446\"}},\"id\":\"29445\",\"type\":\"GlyphRenderer\"},{\"attributes\":{\"source\":{\"id\":\"29486\"}},\"id\":\"29490\",\"type\":\"CDSView\"},{\"attributes\":{\"data\":{\"image\":[{\"__ndarray__\":\"AAAAAAAAAAAAAAAAAAABAAAAAAAAAAAAAAAAAAAAAQAAAAAAAAAAAAAAAAAAAAwAAAAAAAAADAAAAAAAAAAAAAAAAAAMFBgMAAAAAAAAAAAAAAAADBQYDAAAAAAAAAAAAAAAAMKZz8UAAAAAAAAAAACZAADCAAAAAAAAxQAAzwCwKZmZn8LCXcXFVJHPSoXPsCmZmZ/Cwl3FxVSRz0qFz5K8KhlL3BRH01ou80lF0ZqS3C6aS1rRGdNFKkdJvBTz9NmncLCOg2QfYAuPquXTjvTZp3CwjoNkH2ALj6rl044aKgnmSX3lDIGtM0hCgYgnGn0zJ0mtiOaBgQkMQirlSKeSaC4Qbd4phI8GCFdqYZmnkmguEG3eKYSPBghXamGZEMCFmkB9RjIyjZ04hnLyvRB9nb1AjfKaMnKFMobARjiH65CxZNaHkEVwB8Uy74Jnh+uQsWTWh5BFcAfFMu+CZxts09/76CLeZpqO/eh6m4Eb6I6B+5qb32Z6097obCL9GthsUhy9NrJPItikoKvcjBrYbFIcvTayTyLYpKCr3IyUvlltZPkFm1PGJtfg9IhzlPkmc2TGiG1T9Fmb4L4F13ZktJ58HR44Y9CjddBfNjV2ZLSefB0eOGPQo3XQXzY1/PpKw0CFGxgQm6FsNWpEJfyFoSVAm0TDEGpKGDX6G2zzME9xsWINgswCxiAIm01m8zBPcbFiDYLMAsYgCJtNZkxAeFiqHW+gCfL6LYJ7hmNMHfpjqvKGWAl7eKCCQG8tJgAb9ZycpyFH13lDnZ5r6CYAG/WcnKchR9d5Q52ea+ggAIRjqWuEJsQ6+9kFNVMDIGv7A6k6U2PENYQmBQCE2SBr+wOpOlNjxDWEJgUAhNk=\",\"dtype\":\"uint8\",\"order\":\"little\",\"shape\":[41,16]}]},\"selected\":{\"id\":\"30399\"},\"selection_policy\":{\"id\":\"30400\"}},\"id\":\"29530\",\"type\":\"ColumnDataSource\"},{\"attributes\":{},\"id\":\"29460\",\"type\":\"LinearScale\"},{\"attributes\":{},\"id\":\"29518\",\"type\":\"ResetTool\"},{\"attributes\":{},\"id\":\"30391\",\"type\":\"BasicTickFormatter\"},{\"attributes\":{\"text\":\"Plaintext 2 leaks\"},\"id\":\"29452\",\"type\":\"Title\"},{\"attributes\":{},\"id\":\"29458\",\"type\":\"LinearScale\"},{\"attributes\":{},\"id\":\"29474\",\"type\":\"ResetTool\"},{\"attributes\":{\"active_drag\":\"auto\",\"active_inspect\":\"auto\",\"active_multi\":null,\"active_scroll\":\"auto\",\"active_tap\":\"auto\",\"tools\":[{\"id\":\"29426\"},{\"id\":\"29427\"},{\"id\":\"29428\"},{\"id\":\"29429\"},{\"id\":\"29430\"},{\"id\":\"29431\"},{\"id\":\"29433\"}]},\"id\":\"29434\",\"type\":\"Toolbar\"},{\"attributes\":{\"text\":\"XOR of Plaintext 1 leaks and Plaintext 2 leaks\"},\"id\":\"29496\",\"type\":\"Title\"},{\"attributes\":{\"high\":256,\"low\":1,\"palette\":[\"#30123b\",\"#311542\",\"#32184a\",\"#341b51\",\"#351e58\",\"#36215f\",\"#372365\",\"#38266c\",\"#392972\",\"#3a2c79\",\"#3b2f7f\",\"#3c3285\",\"#3c358b\",\"#3d3791\",\"#3e3a96\",\"#3f3d9c\",\"#4040a1\",\"#4043a6\",\"#4145ab\",\"#4148b0\",\"#424bb5\",\"#434eba\",\"#4350be\",\"#4353c2\",\"#4456c7\",\"#4458cb\",\"#455bce\",\"#455ed2\",\"#4560d6\",\"#4563d9\",\"#4666dd\",\"#4668e0\",\"#466be3\",\"#466de6\",\"#4670e8\",\"#4673eb\",\"#4675ed\",\"#4678f0\",\"#467af2\",\"#467df4\",\"#467ff6\",\"#4682f8\",\"#4584f9\",\"#4587fb\",\"#4589fc\",\"#448cfd\",\"#438efd\",\"#4291fe\",\"#4193fe\",\"#4096fe\",\"#3f98fe\",\"#3e9bfe\",\"#3c9dfd\",\"#3ba0fc\",\"#39a2fc\",\"#38a5fb\",\"#36a8f9\",\"#34aaf8\",\"#33acf6\",\"#31aff5\",\"#2fb1f3\",\"#2db4f1\",\"#2bb6ef\",\"#2ab9ed\",\"#28bbeb\",\"#26bde9\",\"#25c0e6\",\"#23c2e4\",\"#21c4e1\",\"#20c6df\",\"#1ec9dc\",\"#1dcbda\",\"#1ccdd7\",\"#1bcfd4\",\"#1ad1d2\",\"#19d3cf\",\"#18d5cc\",\"#18d7ca\",\"#17d9c7\",\"#17dac4\",\"#17dcc2\",\"#17debf\",\"#18e0bd\",\"#18e1ba\",\"#19e3b8\",\"#1ae4b6\",\"#1be5b4\",\"#1de7b1\",\"#1ee8af\",\"#20e9ac\",\"#22eba9\",\"#24eca6\",\"#27eda3\",\"#29eea0\",\"#2cef9d\",\"#2ff09a\",\"#32f197\",\"#35f394\",\"#38f491\",\"#3bf48d\",\"#3ff58a\",\"#42f687\",\"#46f783\",\"#4af880\",\"#4df97c\",\"#51f979\",\"#55fa76\",\"#59fb72\",\"#5dfb6f\",\"#61fc6c\",\"#65fc68\",\"#69fd65\",\"#6dfd62\",\"#71fd5f\",\"#74fe5c\",\"#78fe59\",\"#7cfe56\",\"#80fe53\",\"#84fe50\",\"#87fe4d\",\"#8bfe4b\",\"#8efe48\",\"#92fe46\",\"#95fe44\",\"#98fe42\",\"#9bfd40\",\"#9efd3e\",\"#a1fc3d\",\"#a4fc3b\",\"#a6fb3a\",\"#a9fb39\",\"#acfa37\",\"#aef937\",\"#b1f836\",\"#b3f835\",\"#b6f735\",\"#b9f534\",\"#bbf434\",\"#bef334\",\"#c0f233\",\"#c3f133\",\"#c5ef33\",\"#c8ee33\",\"#caed33\",\"#cdeb34\",\"#cfea34\",\"#d1e834\",\"#d4e735\",\"#d6e535\",\"#d8e335\",\"#dae236\",\"#dde036\",\"#dfde36\",\"#e1dc37\",\"#e3da37\",\"#e5d838\",\"#e7d738\",\"#e8d538\",\"#ead339\",\"#ecd139\",\"#edcf39\",\"#efcd39\",\"#f0cb3a\",\"#f2c83a\",\"#f3c63a\",\"#f4c43a\",\"#f6c23a\",\"#f7c039\",\"#f8be39\",\"#f9bc39\",\"#f9ba38\",\"#fab737\",\"#fbb537\",\"#fbb336\",\"#fcb035\",\"#fcae34\",\"#fdab33\",\"#fda932\",\"#fda631\",\"#fda330\",\"#fea12f\",\"#fe9e2e\",\"#fe9b2d\",\"#fe982c\",\"#fd952b\",\"#fd9229\",\"#fd8f28\",\"#fd8c27\",\"#fc8926\",\"#fc8624\",\"#fb8323\",\"#fb8022\",\"#fa7d20\",\"#fa7a1f\",\"#f9771e\",\"#f8741c\",\"#f7711b\",\"#f76e1a\",\"#f66b18\",\"#f56817\",\"#f46516\",\"#f36315\",\"#f26014\",\"#f15d13\",\"#ef5a11\",\"#ee5810\",\"#ed550f\",\"#ec520e\",\"#ea500d\",\"#e94d0d\",\"#e84b0c\",\"#e6490b\",\"#e5460a\",\"#e3440a\",\"#e24209\",\"#e04008\",\"#de3e08\",\"#dd3c07\",\"#db3a07\",\"#d93806\",\"#d73606\",\"#d63405\",\"#d43205\",\"#d23005\",\"#d02f04\",\"#ce2d04\",\"#cb2b03\",\"#c92903\",\"#c72803\",\"#c52602\",\"#c32402\",\"#c02302\",\"#be2102\",\"#bb1f01\",\"#b91e01\",\"#b61c01\",\"#b41b01\",\"#b11901\",\"#ae1801\",\"#ac1601\",\"#a91501\",\"#a61401\",\"#a31201\",\"#a01101\",\"#9d1001\",\"#9a0e01\",\"#970d01\",\"#940c01\",\"#910b01\",\"#8e0a01\",\"#8b0901\",\"#870801\",\"#840701\",\"#810602\",\"#7d0502\",\"#7a0402\"]},\"id\":\"29494\",\"type\":\"LogColorMapper\"},{\"attributes\":{},\"id\":\"29463\",\"type\":\"BasicTicker\"},{\"attributes\":{},\"id\":\"29514\",\"type\":\"PanTool\"},{\"attributes\":{\"axis\":{\"id\":\"29510\"},\"dimension\":1,\"ticker\":null},\"id\":\"29513\",\"type\":\"Grid\"},{\"attributes\":{},\"id\":\"29491\",\"type\":\"LogTicker\"},{\"attributes\":{\"formatter\":{\"id\":\"30390\"},\"ticker\":{\"id\":\"29507\"}},\"id\":\"29506\",\"type\":\"LinearAxis\"},{\"attributes\":{\"end\":16},\"id\":\"29454\",\"type\":\"Range1d\"},{\"attributes\":{\"color_mapper\":{\"id\":\"29406\"},\"formatter\":{\"id\":\"30381\"},\"label_standoff\":12,\"location\":[0,0],\"ticker\":{\"id\":\"29447\"}},\"id\":\"29448\",\"type\":\"ColorBar\"},{\"attributes\":{},\"id\":\"29471\",\"type\":\"WheelZoomTool\"},{\"attributes\":{},\"id\":\"29517\",\"type\":\"SaveTool\"},{\"attributes\":{},\"id\":\"30396\",\"type\":\"Selection\"},{\"attributes\":{\"color_mapper\":{\"id\":\"29406\"},\"dh\":{\"units\":\"data\",\"value\":41},\"dw\":{\"units\":\"data\",\"value\":16},\"global_alpha\":0.1,\"image\":{\"field\":\"image\"},\"x\":{\"value\":0},\"y\":{\"value\":0}},\"id\":\"29444\",\"type\":\"Image\"},{\"attributes\":{\"overlay\":{\"id\":\"29476\"}},\"id\":\"29472\",\"type\":\"BoxZoomTool\"},{\"attributes\":{},\"id\":\"29502\",\"type\":\"LinearScale\"},{\"attributes\":{},\"id\":\"29519\",\"type\":\"HelpTool\"},{\"attributes\":{\"data\":{\"image\":[{\"__ndarray__\":\"QXR0YWNrIGF0IDEyOjU3IXBGR1VWWhJSQBUAAAkBAhdRWqD8sb7JAAlZY2MBfHfwUb5j8LFZd/wJfKAAAVrJY+hjItUZZhkFNgoux0aWd1bAxxQiBPMdwR+qGzFcAneWusb6k/INpHjArK/HSnf1kLoNr5DyrPWTwHf6eErGpMdH2llMdiYBaYBD0Cam7Y0pTx3VGWN0ifi8sW1BgIswjoSkA9T7kqdBZcg8g809BBmEkjwZ+8gE1GU9A0HNpKeDm+ZFC36oXGnPW50TUu+iUqRblalURwRa2UZ4R2KU+qFJOSrTIKDyvjVavKCqIi0ySaC8MiBaLdM1Iiq+qjnyoOf/3KNQME6qmLGaMFZ1l3XxKAEFbAjLP7KU+vFMK69HoTR8a1AwH3U3Ii2hKfF5oKEwLaBQInlrN/F8dSk0H6GEFjC+1PQ9fW8/oT6wwdsJ2sbOurYcRuwn8rpu4lL4a1e0i/ROnFrOzIn0n5gAQX9XnPR/TolB9MwAi86YtFqfmgy5b6lwQunGhIhDKZoieDj67Wtpbm18Tle8hvPaNd8HLVV/+Z88EC9bZUQNV5aeB59lnvlbln8vV1UQDS08RE8T69TtkRQj4m7iUxVXlI6kFeOHxokz5UGl8VBs3JAqSVkRF7Snw9mDBqFTUIZg5UmnoeW0BmAXg4YR2VBZw1MkAYMMDg9Lj0R+V6Db72HMcvXC6XPjLayaWSKAfEMQSEDmJR6PEdiRuMuTzRAaylJAEZNSj8vKHrgaJZEQ5tjNcp6a5pdZ6bfxckDVBHkRj67JhF824pEtju5Nb9xJbbHk3V/PBZiB2Bko46iGOzzI5JjjyAUoPM8ZO1/Yht2BqArfTxBK1OiNKVuGIG6NJG4=\",\"dtype\":\"uint8\",\"order\":\"little\",\"shape\":[41,16]}]},\"selected\":{\"id\":\"30402\"},\"selection_policy\":{\"id\":\"30403\"}},\"id\":\"29486\",\"type\":\"ColumnDataSource\"},{\"attributes\":{\"color_mapper\":{\"id\":\"29494\"},\"dh\":{\"units\":\"data\",\"value\":41},\"dw\":{\"units\":\"data\",\"value\":16},\"image\":{\"field\":\"image\"},\"x\":{\"value\":0},\"y\":{\"value\":0}},\"id\":\"29531\",\"type\":\"Image\"},{\"attributes\":{},\"id\":\"29475\",\"type\":\"HelpTool\"},{\"attributes\":{\"active_drag\":\"auto\",\"active_inspect\":\"auto\",\"active_multi\":null,\"active_scroll\":\"auto\",\"active_tap\":\"auto\",\"tools\":[{\"id\":\"29470\"},{\"id\":\"29471\"},{\"id\":\"29472\"},{\"id\":\"29473\"},{\"id\":\"29474\"},{\"id\":\"29475\"},{\"id\":\"29477\"}]},\"id\":\"29478\",\"type\":\"Toolbar\"},{\"attributes\":{},\"id\":\"29470\",\"type\":\"PanTool\"},{\"attributes\":{},\"id\":\"29429\",\"type\":\"SaveTool\"},{\"attributes\":{\"axis\":{\"id\":\"29462\"},\"ticker\":null},\"id\":\"29465\",\"type\":\"Grid\"},{\"attributes\":{\"data_source\":{\"id\":\"29486\"},\"glyph\":{\"id\":\"29487\"},\"hover_glyph\":null,\"level\":\"image\",\"muted_glyph\":null,\"nonselection_glyph\":{\"id\":\"29488\"},\"selection_glyph\":null,\"view\":{\"id\":\"29490\"}},\"id\":\"29489\",\"type\":\"GlyphRenderer\"},{\"attributes\":{},\"id\":\"30390\",\"type\":\"BasicTickFormatter\"},{\"attributes\":{},\"id\":\"29511\",\"type\":\"BasicTicker\"},{\"attributes\":{\"callback\":null,\"tooltips\":[[\"x\",\"$x\"],[\"y\",\"$y\"],[\"value\",\"@image\"]]},\"id\":\"29477\",\"type\":\"HoverTool\"},{\"attributes\":{},\"id\":\"29504\",\"type\":\"LinearScale\"},{\"attributes\":{\"formatter\":{\"id\":\"30395\"},\"ticker\":{\"id\":\"29463\"}},\"id\":\"29462\",\"type\":\"LinearAxis\"},{\"attributes\":{\"source\":{\"id\":\"29442\"}},\"id\":\"29446\",\"type\":\"CDSView\"},{\"attributes\":{\"callback\":null,\"tooltips\":[[\"x\",\"$x\"],[\"y\",\"$y\"],[\"value\",\"@image\"]]},\"id\":\"29521\",\"type\":\"HoverTool\"},{\"attributes\":{\"axis\":{\"id\":\"29506\"},\"ticker\":null},\"id\":\"29509\",\"type\":\"Grid\"},{\"attributes\":{\"below\":[{\"id\":\"29506\"}],\"center\":[{\"id\":\"29509\"},{\"id\":\"29513\"}],\"left\":[{\"id\":\"29510\"}],\"plot_height\":700,\"plot_width\":350,\"renderers\":[{\"id\":\"29533\"}],\"right\":[{\"id\":\"29536\"}],\"title\":{\"id\":\"29496\"},\"toolbar\":{\"id\":\"29522\"},\"x_range\":{\"id\":\"29498\"},\"x_scale\":{\"id\":\"29502\"},\"y_range\":{\"id\":\"29500\"},\"y_scale\":{\"id\":\"29504\"}},\"id\":\"29495\",\"subtype\":\"Figure\",\"type\":\"Plot\"},{\"attributes\":{\"end\":16},\"id\":\"29498\",\"type\":\"Range1d\"}],\"root_ids\":[\"29538\"]},\"title\":\"Bokeh Application\",\"version\":\"2.1.1\"}};\n  var render_items = [{\"docid\":\"7c56025e-143b-471a-ac4f-20277f47ae0f\",\"root_ids\":[\"29538\"],\"roots\":{\"29538\":\"0104386c-26d8-4d25-9a14-b67f3f9fc1dd\"}}];\n  root.Bokeh.embed.embed_items_notebook(docs_json, render_items);\n\n  }\n  if (root.Bokeh !== undefined) {\n    embed_document(root);\n  } else {\n    var attempts = 0;\n    var timer = setInterval(function(root) {\n      if (root.Bokeh !== undefined) {\n        clearInterval(timer);\n        embed_document(root);\n      } else {\n        attempts++;\n        if (attempts > 100) {\n          clearInterval(timer);\n          console.log(\"Bokeh: ERROR: Unable to run BokehJS code because BokehJS library is missing\");\n        }\n      }\n    }, 10, root)\n  }\n})(window);",
      "application/vnd.bokehjs_exec.v0+json": ""
     },
     "metadata": {
      "application/vnd.bokehjs_exec.v0+json": {
       "id": "29538"
      }
     }
    }
   ],
   "source": [
    "shape_1 = np.shape(state_1)\n",
    "dh_1 = shape_1[0]\n",
    "dw_1 = shape_1[2]\n",
    "\n",
    "p1 = getHeatMap('Plaintext 1 leaks',  np.squeeze(state_1), dh_1, dw_1)\n",
    "p2 = getHeatMap('Plaintext 2 leaks',  np.squeeze(state_2), dh_1, dw_1)\n",
    "p3 = getHeatMap('XOR of Plaintext 1 leaks and Plaintext 2 leaks', np.squeeze(np.bitwise_xor(state_1, state_2)), dh_1, dw_1)\n",
    "                   \n",
    "show(row(p1,p3,p2))"
   ]
  },
  {
   "cell_type": "code",
   "execution_count": 123,
   "metadata": {
    "id": "Jvul51G2gwF9",
    "colab_type": "code",
    "colab": {},
    "tags": []
   },
   "outputs": [
    {
     "output_type": "display_data",
     "data": {
      "text/html": "\n\n\n\n\n\n  <div class=\"bk-root\" id=\"cdedd693-89b0-4471-b817-484158499d70\" data-root-id=\"30567\"></div>\n"
     },
     "metadata": {}
    },
    {
     "output_type": "display_data",
     "data": {
      "application/javascript": "(function(root) {\n  function embed_document(root) {\n    \n  var docs_json = {\"44904809-e3f8-4076-98da-e2eddbcaf740\":{\"roots\":{\"references\":[{\"attributes\":{\"below\":[{\"id\":\"30578\"}],\"center\":[{\"id\":\"30581\"},{\"id\":\"30585\"}],\"left\":[{\"id\":\"30582\"}],\"renderers\":[{\"id\":\"30605\"}],\"title\":{\"id\":\"30568\"},\"toolbar\":{\"id\":\"30594\"},\"x_range\":{\"id\":\"30570\"},\"x_scale\":{\"id\":\"30574\"},\"y_range\":{\"id\":\"30572\"},\"y_scale\":{\"id\":\"30576\"}},\"id\":\"30567\",\"subtype\":\"Figure\",\"type\":\"Plot\"},{\"attributes\":{},\"id\":\"30576\",\"type\":\"LinearScale\"},{\"attributes\":{\"source\":{\"id\":\"30602\"}},\"id\":\"30606\",\"type\":\"CDSView\"},{\"attributes\":{},\"id\":\"30587\",\"type\":\"WheelZoomTool\"},{\"attributes\":{},\"id\":\"30583\",\"type\":\"BasicTicker\"},{\"attributes\":{\"fill_color\":{\"value\":\"blue\"},\"line_color\":{\"value\":\"#1f77b4\"},\"top\":{\"field\":\"top\"},\"width\":{\"value\":0.5},\"x\":{\"field\":\"x\"}},\"id\":\"30603\",\"type\":\"VBar\"},{\"attributes\":{\"fill_alpha\":{\"value\":0.1},\"fill_color\":{\"value\":\"blue\"},\"line_alpha\":{\"value\":0.1},\"line_color\":{\"value\":\"#1f77b4\"},\"top\":{\"field\":\"top\"},\"width\":{\"value\":0.5},\"x\":{\"field\":\"x\"}},\"id\":\"30604\",\"type\":\"VBar\"},{\"attributes\":{},\"id\":\"30579\",\"type\":\"BasicTicker\"},{\"attributes\":{\"text\":\"Hamming weight for the xor of plaintext1 and plaintext2 leaks\"},\"id\":\"30568\",\"type\":\"Title\"},{\"attributes\":{},\"id\":\"30572\",\"type\":\"DataRange1d\"},{\"attributes\":{},\"id\":\"31475\",\"type\":\"BasicTickFormatter\"},{\"attributes\":{\"axis_label\":\"Hamming weight\",\"formatter\":{\"id\":\"31475\"},\"ticker\":{\"id\":\"30583\"}},\"id\":\"30582\",\"type\":\"LinearAxis\"},{\"attributes\":{\"bottom_units\":\"screen\",\"fill_alpha\":0.5,\"fill_color\":\"lightgrey\",\"left_units\":\"screen\",\"level\":\"overlay\",\"line_alpha\":1.0,\"line_color\":\"black\",\"line_dash\":[4,4],\"line_width\":2,\"right_units\":\"screen\",\"top_units\":\"screen\"},\"id\":\"30592\",\"type\":\"BoxAnnotation\"},{\"attributes\":{\"axis\":{\"id\":\"30578\"},\"ticker\":null},\"id\":\"30581\",\"type\":\"Grid\"},{\"attributes\":{},\"id\":\"30574\",\"type\":\"LinearScale\"},{\"attributes\":{\"active_drag\":\"auto\",\"active_inspect\":\"auto\",\"active_multi\":null,\"active_scroll\":\"auto\",\"active_tap\":\"auto\",\"tools\":[{\"id\":\"30586\"},{\"id\":\"30587\"},{\"id\":\"30588\"},{\"id\":\"30589\"},{\"id\":\"30590\"},{\"id\":\"30591\"},{\"id\":\"30593\"}]},\"id\":\"30594\",\"type\":\"Toolbar\"},{\"attributes\":{},\"id\":\"30590\",\"type\":\"ResetTool\"},{\"attributes\":{\"data_source\":{\"id\":\"30602\"},\"glyph\":{\"id\":\"30603\"},\"hover_glyph\":null,\"muted_glyph\":null,\"nonselection_glyph\":{\"id\":\"30604\"},\"selection_glyph\":null,\"view\":{\"id\":\"30606\"}},\"id\":\"30605\",\"type\":\"GlyphRenderer\"},{\"attributes\":{\"axis_label\":\"Leak line\",\"formatter\":{\"id\":\"31477\"},\"ticker\":{\"id\":\"30579\"}},\"id\":\"30578\",\"type\":\"LinearAxis\"},{\"attributes\":{},\"id\":\"30591\",\"type\":\"HelpTool\"},{\"attributes\":{},\"id\":\"31479\",\"type\":\"UnionRenderers\"},{\"attributes\":{},\"id\":\"30586\",\"type\":\"PanTool\"},{\"attributes\":{\"callback\":null,\"tooltips\":[[\"x\",\"$x\"],[\"y\",\"$y\"]]},\"id\":\"30593\",\"type\":\"HoverTool\"},{\"attributes\":{},\"id\":\"31477\",\"type\":\"BasicTickFormatter\"},{\"attributes\":{\"axis\":{\"id\":\"30582\"},\"dimension\":1,\"ticker\":null},\"id\":\"30585\",\"type\":\"Grid\"},{\"attributes\":{},\"id\":\"30589\",\"type\":\"SaveTool\"},{\"attributes\":{\"overlay\":{\"id\":\"30592\"}},\"id\":\"30588\",\"type\":\"BoxZoomTool\"},{\"attributes\":{\"data\":{\"top\":{\"__ndarray__\":\"AAAAAAAA8D8AAAAAAADwPwAAAAAAAABAAAAAAAAAAEAAAAAAAAAgQAAAAAAAACBAAAAAAAAAMUAAAAAAAAAxQAAAAAAAgE9AAAAAAACAT0AAAAAAAABPQAAAAAAAAE9AAAAAAAAAUEAAAAAAAABQQAAAAAAAAEpAAAAAAAAASkAAAAAAAABMQAAAAAAAAExAAAAAAAAATEAAAAAAAABMQAAAAAAAAE5AAAAAAAAATkAAAAAAAIBSQAAAAAAAgFJAAAAAAAAATkAAAAAAAABOQAAAAAAAgFBAAAAAAACAUEAAAAAAAIBQQAAAAAAAgFBAAAAAAACAS0AAAAAAAIBLQAAAAAAAgEpAAAAAAACASkAAAAAAAIBNQAAAAAAAgE1AAAAAAABAUEAAAAAAAEBQQAAAAAAAAEpAAAAAAAAASkAAAAAAAABKQA==\",\"dtype\":\"float64\",\"order\":\"little\",\"shape\":[41]},\"x\":[1,2,3,4,5,6,7,8,9,10,11,12,13,14,15,16,17,18,19,20,21,22,23,24,25,26,27,28,29,30,31,32,33,34,35,36,37,38,39,40,41]},\"selected\":{\"id\":\"31478\"},\"selection_policy\":{\"id\":\"31479\"}},\"id\":\"30602\",\"type\":\"ColumnDataSource\"},{\"attributes\":{},\"id\":\"31478\",\"type\":\"Selection\"},{\"attributes\":{},\"id\":\"30570\",\"type\":\"DataRange1d\"}],\"root_ids\":[\"30567\"]},\"title\":\"Bokeh Application\",\"version\":\"2.1.1\"}};\n  var render_items = [{\"docid\":\"44904809-e3f8-4076-98da-e2eddbcaf740\",\"root_ids\":[\"30567\"],\"roots\":{\"30567\":\"cdedd693-89b0-4471-b817-484158499d70\"}}];\n  root.Bokeh.embed.embed_items_notebook(docs_json, render_items);\n\n  }\n  if (root.Bokeh !== undefined) {\n    embed_document(root);\n  } else {\n    var attempts = 0;\n    var timer = setInterval(function(root) {\n      if (root.Bokeh !== undefined) {\n        clearInterval(timer);\n        embed_document(root);\n      } else {\n        attempts++;\n        if (attempts > 100) {\n          clearInterval(timer);\n          console.log(\"Bokeh: ERROR: Unable to run BokehJS code because BokehJS library is missing\");\n        }\n      }\n    }, 10, root)\n  }\n})(window);",
      "application/vnd.bokehjs_exec.v0+json": ""
     },
     "metadata": {
      "application/vnd.bokehjs_exec.v0+json": {
       "id": "30567"
      }
     }
    }
   ],
   "source": [
    "#  plot the HW of the difference\n",
    "p = figure(title='Hamming weight for the xor of plaintext1 and plaintext2 leaks', x_axis_label='Leak line', y_axis_label='Hamming weight', tooltips=[(\"x\", \"$x\"), (\"y\", \"$y\")])\n",
    "p.vbar(x=range(1, (np.shape(state_1)[0]) + 1), top=hamming_weight(np.bitwise_xor(state_1, state_2)), width=0.5, fill_color='blue')\n",
    "show(p)"
   ]
  },
  {
   "cell_type": "code",
   "execution_count": null,
   "metadata": {},
   "outputs": [],
   "source": []
  }
 ],
 "metadata": {
  "kernelspec": {
   "display_name": "Python 3",
   "language": "python",
   "name": "python3"
  },
  "language_info": {
   "codemirror_mode": {
    "name": "ipython",
    "version": 2
   },
   "file_extension": ".py",
   "mimetype": "text/x-python",
   "name": "python",
   "nbconvert_exporter": "python",
   "pygments_lexer": "ipython2",
   "version": "3.8.2-final"
  },
  "colab": {
   "name": "Lecture5.ipynb",
   "provenance": [],
   "include_colab_link": true
  }
 },
 "nbformat": 4,
 "nbformat_minor": 0
}