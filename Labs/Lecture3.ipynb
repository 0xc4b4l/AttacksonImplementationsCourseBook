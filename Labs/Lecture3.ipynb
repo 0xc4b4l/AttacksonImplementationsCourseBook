{
  "nbformat": 4,
  "nbformat_minor": 0,
  "metadata": {
    "language_info": {
      "name": "python",
      "codemirror_mode": {
        "name": "ipython",
        "version": 3
      },
      "version": "3.6.1-final"
    },
    "orig_nbformat": 2,
    "file_extension": ".py",
    "mimetype": "text/x-python",
    "name": "python",
    "npconvert_exporter": "python",
    "pygments_lexer": "ipython3",
    "version": 3,
    "kernelspec": {
      "name": "python36164bit94763791729d460fb4aa25d79a9755ee",
      "display_name": "Python 3.6.1 64-bit"
    },
    "colab": {
      "name": "Lecture3.ipynb",
      "provenance": []
    }
  },
  "cells": [
    {
      "cell_type": "code",
      "metadata": {
        "id": "jACsLMtoeFtN",
        "colab_type": "code",
        "colab": {}
      },
      "source": [
        "import matplotlib.pyplot as plt\n",
        "import numpy as np\n",
        "from scipy import stats\n",
        "\n",
        "\n",
        "# Create two random vectors\n",
        "mu_1 = 10\n",
        "mu_2 = 10.5\n",
        "\n",
        "sigma2_1 = 4\n",
        "sigma2_2 = 4\n",
        "\n",
        "vector_length = 400\n",
        "\n",
        "x = np.random.normal(size=vector_length) * sigma2_1 + mu_1\n",
        "y = np.random.normal(size=vector_length) * sigma2_2 + mu_2"
      ],
      "execution_count": 2,
      "outputs": []
    },
    {
      "cell_type": "code",
      "metadata": {
        "id": "xzYmAf8WeFtb",
        "colab_type": "code",
        "colab": {}
      },
      "source": [
        "plt.plot(x, np.zeros(400), '*', y, np.ones(400), '*')\n",
        "plt.ylim(-2, 3)\n",
        "plt.show()"
      ],
      "execution_count": null,
      "outputs": []
    },
    {
      "cell_type": "code",
      "metadata": {
        "id": "DmfPL4TkeFtm",
        "colab_type": "code",
        "colab": {}
      },
      "source": [
        "# Are these from the same distribution?\n",
        "# (0 = same distribution, 1 = different distribution)\n",
        "# p - probability they're from the same distribution\n",
        "h, p = stats.ttest_ind(x, y)\n",
        "if p > 0.05:\n",
        "  print('Same distribution w.p. %1.3g\\n', p)\n",
        "else:\n",
        "  print('Different distributions w.p. %1.3g\\n', 1 - p)"
      ],
      "execution_count": null,
      "outputs": []
    }
  ]
}