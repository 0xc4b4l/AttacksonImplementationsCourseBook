{
 "nbformat": 4,
 "nbformat_minor": 2,
 "metadata": {
  "language_info": {
   "name": "python",
   "codemirror_mode": {
    "name": "ipython",
    "version": 3
   }
  },
  "orig_nbformat": 2,
  "file_extension": ".py",
  "mimetype": "text/x-python",
  "name": "python",
  "npconvert_exporter": "python",
  "pygments_lexer": "ipython3",
  "version": 3
 },
 "cells": [
  {
   "cell_type": "code",
   "execution_count": null,
   "metadata": {},
   "outputs": [],
   "source": [
    "# Open this using the URL: dadada\n",
    "!wget 'http://dpabook.iaik.tugraz.at/onlinematerial/matlabws/WS2.zip'\n",
    "!unzip WS2.zip\n",
    "!pip install -U -q scipy\n",
    "# Load the data\n",
    "from scipy import io\n",
    "ws2 = io.loadmat('WS2.mat')"
   ]
  },
  {
   "cell_type": "code",
   "execution_count": null,
   "metadata": {},
   "outputs": [],
   "source": []
  }
 ]
}