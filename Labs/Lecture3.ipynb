{
 "cells": [
  {
   "cell_type": "code",
   "execution_count": 2,
   "metadata": {
    "id": "jACsLMtoeFtN",
    "colab_type": "code",
    "colab": {}
   },
   "outputs": [],
   "source": [
    "import matplotlib.pyplot as plt\n",
    "import numpy as np\n",
    "from scipy import stats\n",
    "\n",
    "\n",
    "# Create two random vectors\n",
    "mu_1 = 10\n",
    "mu_2 = 10.5\n",
    "\n",
    "sigma2_1 = 4\n",
    "sigma2_2 = 4\n",
    "\n",
    "vector_length = 400\n",
    "\n",
    "x = np.random.normal(size=vector_length) * sigma2_1 + mu_1\n",
    "y = np.random.normal(size=vector_length) * sigma2_2 + mu_2"
   ]
  },
  {
   "cell_type": "code",
   "execution_count": 3,
   "metadata": {
    "id": "xzYmAf8WeFtb",
    "colab_type": "code",
    "colab": {
     "base_uri": "https://localhost:8080/",
     "height": 269.0
    },
    "outputId": "32fe85ff-99ed-4eeb-962b-6dd53d2ac726"
   },
   "outputs": [
    {
<<<<<<< HEAD
     "data": {
      "image/png": "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\n",
      "text/plain": [
       "<Figure size 432x288 with 1 Axes>"
      ]
     },
     "metadata": {
      "tags": [],
      "needs_background": "light"
     },
     "output_type": "display_data"
    }
   ],
   "source": [
    "plt.plot(x, np.zeros(400), '*', y, np.ones(400), '*')\n",
    "plt.ylim(-2, 3)\n",
    "plt.show()"
   ]
  },
  {
   "cell_type": "code",
   "execution_count": 4,
   "metadata": {
    "id": "DmfPL4TkeFtm",
    "colab_type": "code",
    "colab": {
     "base_uri": "https://localhost:8080/",
     "height": 52.0
=======
      "cell_type": "code",
      "metadata": {
        "id": "xzYmAf8WeFtb",
        "colab_type": "code",
        "colab": {}
      },
      "source": [
        "plt.plot(x, np.zeros(400), '*', y, np.ones(400), '*')\n",
        "plt.ylim(-2, 3)\n",
        "plt.show()"
      ],
      "execution_count": null,
      "outputs": []
>>>>>>> e6d7738a55263009368834ca278b6ff71da87f75
    },
    "outputId": "1b781077-d132-455b-b152-7aa0f5254394"
   },
   "outputs": [
    {
<<<<<<< HEAD
     "name": "stdout",
     "output_type": "stream",
     "text": [
      "Same distribution w.p. %1.3g\n",
      " 0.06194775643483274\n"
     ]
=======
      "cell_type": "code",
      "metadata": {
        "id": "DmfPL4TkeFtm",
        "colab_type": "code",
        "colab": {}
      },
      "source": [
        "# Are these from the same distribution?\n",
        "# (0 = same distribution, 1 = different distribution)\n",
        "# p - probability they're from the same distribution\n",
        "h, p = stats.ttest_ind(x, y)\n",
        "if p > 0.05:\n",
        "  print('Same distribution w.p. %1.3g\\n', p)\n",
        "else:\n",
        "  print('Different distributions w.p. %1.3g\\n', 1 - p)"
      ],
      "execution_count": null,
      "outputs": []
>>>>>>> e6d7738a55263009368834ca278b6ff71da87f75
    }
   ],
   "source": [
    "# Are these from the same distribution?\n",
    "# (0 = same distribution, 1 = different distribution)\n",
    "# p - probability they're from the same distribution\n",
    "h, p = stats.ttest_ind(x, y)\n",
    "if p > 0.05:\n",
    "  print('Same distribution w.p. %1.3g\\n', p)\n",
    "else:\n",
    "  print('Different distributions w.p. %1.3g\\n', 1 - p)"
   ]
  }
 ],
 "metadata": {
  "language_info": {
   "name": "python",
   "codemirror_mode": {
    "name": "ipython",
    "version": 3
   },
   "version": "3.6.1-final"
  },
  "orig_nbformat": 2.0,
  "file_extension": ".py",
  "mimetype": "text/x-python",
  "name": "python",
  "npconvert_exporter": "python",
  "pygments_lexer": "ipython3",
  "version": 3.0,
  "kernelspec": {
   "name": "python36164bit94763791729d460fb4aa25d79a9755ee",
   "display_name": "Python 3.6.1 64-bit"
  },
  "colab": {
   "name": "Lecture3.ipynb",
   "provenance": []
  }
 },
 "nbformat": 4,
 "nbformat_minor": 0
}
