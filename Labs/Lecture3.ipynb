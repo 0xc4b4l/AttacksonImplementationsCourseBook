{
  "cells": [
    {
      "cell_type": "code",
      "metadata": {
        "id": "jACsLMtoeFtN",
        "colab_type": "code",
        "colab": {},
        "tags": []
      },
      "source": [
        "import numpy as np\n",
        "from scipy import stats\n",
        "\n",
        "!pip install -q bokeh\n",
        "from bokeh.plotting import figure, show\n",
        "from bokeh.models import Range1d\n",
        "from bokeh.io import output_notebook\n",
        "# Call once to configure Bokeh to display plots inline in the notebook.\n",
        "output_notebook()\n",
        "\n",
        "# Create two random vectors\n",
        "mu_1 = 10\n",
        "mu_2 = 10.5\n",
        "\n",
        "sigma2_1 = 4\n",
        "sigma2_2 = 4\n",
        "\n",
        "vector_length = 400\n",
        "\n",
        "x = np.random.normal(size=vector_length) * sigma2_1 + mu_1\n",
        "y = np.random.normal(size=vector_length) * sigma2_2 + mu_2"
      ],
      "execution_count": null,
      "outputs": []
    },
    {
      "cell_type": "code",
      "metadata": {
        "id": "xzYmAf8WeFtb",
        "colab_type": "code",
        "colab": {},
        "tags": []
      },
      "source": [
        "p = figure(title='X distribution in comparison to Y distribution', x_axis_label='Values in the distribution', tooltips=[(\"x\", \"$x\")])\n",
        "p.y_range=Range1d(-0.5, 1.5)\n",
        "p.scatter(x, np.ones(400), legend_label='X distribution', fill_color='orange', line_width=0)\n",
        "p.scatter(y, np.zeros(400), legend_label='Y distribution', fill_color='blue', line_width=0)\n",
        "p.yaxis.visible = False\n",
        "show(p)"
      ],
      "execution_count": null,
      "outputs": []
    },
    {
      "cell_type": "code",
      "metadata": {
        "id": "DmfPL4TkeFtm",
        "colab_type": "code",
        "colab": {},
        "tags": []
      },
      "source": [
        "# Are these from the same distribution?\n",
        "# (0 = same distribution, 1 = different distribution)\n",
        "# p - probability they're from the same distribution\n",
        "h, p = stats.ttest_ind(x, y)\n",
        "if p > 0.05:\n",
        "  print('Same distribution w.p. %0.3f\\n' % p)\n",
        "else:\n",
        "  print('Different distributions w.p. %0.3f\\n' % (1 - p))"
      ],
      "execution_count": null,
      "outputs": []
    },
    {
      "cell_type": "code",
      "execution_count": null,
      "metadata": {},
      "outputs": [],
      "source": []
    }
  ],
  "metadata": {
    "language_info": {
      "name": "python",
      "codemirror_mode": {
        "name": "ipython",
        "version": 3
      },
      "version": "3.8.2-final"
    },
    "orig_nbformat": 2,
    "file_extension": ".py",
    "mimetype": "text/x-python",
    "name": "python",
    "npconvert_exporter": "python",
    "pygments_lexer": "ipython3",
    "version": 3,
    "kernelspec": {
      "name": "python3",
      "language": "python",
      "display_name": "Python 3"
    },
    "colab": {
      "name": "Lecture3.ipynb",
      "provenance": []
    }
  },
  "nbformat": 4,
  "nbformat_minor": 0
}