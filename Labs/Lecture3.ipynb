{
 "nbformat": 4,
 "nbformat_minor": 2,
 "metadata": {
  "language_info": {
   "name": "python",
   "codemirror_mode": {
    "name": "ipython",
    "version": 3
   },
   "version": "3.6.1-final"
  },
  "orig_nbformat": 2,
  "file_extension": ".py",
  "mimetype": "text/x-python",
  "name": "python",
  "npconvert_exporter": "python",
  "pygments_lexer": "ipython3",
  "version": 3,
  "kernelspec": {
   "name": "python36164bit94763791729d460fb4aa25d79a9755ee",
   "display_name": "Python 3.6.1 64-bit"
  }
 },
 "cells": [
  {
   "cell_type": "code",
   "execution_count": null,
   "metadata": {},
   "outputs": [],
   "source": [
    "# Open this using the URL: https://github.com/Yossioren/AttacksonImplementationsCourseBook/blob/master/Labs/Lecture3.ipynb\n",
    "# Load the WS2 dataset\n",
    "!wget  -N 'http://dpabook.iaik.tugraz.at/onlinematerial/matlabws/WS2.zip' \n",
    "!unzip -o WS2.zip\n",
    "!pip install -U -q scipy\n",
    "import matplotlib as mpl\n",
    "import matplotlib.pyplot as plt\n",
    "\n",
    "# Load the data\n",
    "from scipy import io\n",
    "ws2 = io.loadmat('WS2.mat')"
   ]
  },
  {
   "cell_type": "code",
   "execution_count": null,
   "metadata": {},
   "outputs": [],
   "source": [
    "# Plot the first trace\n",
    "first_trace = ws2['traces'][1]\n",
    "plt.plot(first_trace[1:1000])\n",
    "# TODO: interactive with scroll and zoom like in here: https://colab.research.google.com/notebooks/charts.ipynb"
   ]
  },
  {
   "cell_type": "code",
   "execution_count": null,
   "metadata": {},
   "outputs": [],
   "source": []
  }
 ]
}