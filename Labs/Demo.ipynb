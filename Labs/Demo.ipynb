{
 "cells": [
  {
   "cell_type": "code",
   "execution_count": null,
   "metadata": {
    "tags": []
   },
   "outputs": [],
   "source": [
    "# Open this using the URL: https://colab.research.google.com/github/Yossioren/AttacksonImplementationsCourseBook/blob/master/Labs/Lecture3.ipynb\n",
    "# Load the WS2 dataset\n",
    "#!wget  -N 'http://dpabook.iaik.tugraz.at/onlinematerial/matlabws/WS2.zip' \n",
    "#!unzip -o WS2.zip\n",
    "!pip install -U -q scipy\n",
    "!pip install -U -q bokeh\n",
    "import numpy\n",
    "from bokeh.plotting import figure, show\n",
    "from bokeh.io import output_notebook\n",
    "# Call once to configure Bokeh to display plots inline in the notebook.\n",
    "output_notebook()\n",
    "\n",
    "# Load the data\n",
    "from scipy import io\n",
    "ws2 = io.loadmat('WS2.mat')"
   ]
  },
  {
   "cell_type": "code",
   "execution_count": null,
   "metadata": {},
   "outputs": [],
   "source": [
    "# Plot the first trace\n",
    "times = numpy.linspace(0,1,1000)\n",
    "\n",
    "p = figure(x_axis_label = 'Time (relative units)', y_axis_label = 'Power (relative units)', tools = \"pan,wheel_zoom,box_zoom,reset\")\n",
    "first_trace = ws2['traces'][1]\n",
    "p.line(times,first_trace[0:1000])\n",
    "show(p)"
   ]
  },
  {
   "cell_type": "code",
   "execution_count": null,
   "metadata": {},
   "outputs": [],
   "source": []
  }
 ],
 "metadata": {
  "language_info": {
   "name": "python",
   "codemirror_mode": {
    "name": "ipython",
    "version": 3
   },
   "version": "3.8.2-final"
  },
  "orig_nbformat": 2,
  "file_extension": ".py",
  "mimetype": "text/x-python",
  "name": "python",
  "npconvert_exporter": "python",
  "pygments_lexer": "ipython3",
  "version": 3,
  "kernelspec": {
   "name": "python38264bit79083f2e3f8e40ee89a16d3e68f91748",
   "display_name": "Python 3.8.2 64-bit"
  }
 },
 "nbformat": 4,
 "nbformat_minor": 2
}